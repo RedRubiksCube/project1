{
 "metadata": {
  "language_info": {
   "codemirror_mode": {
    "name": "ipython",
    "version": 3
   },
   "file_extension": ".py",
   "mimetype": "text/x-python",
   "name": "python",
   "nbconvert_exporter": "python",
   "pygments_lexer": "ipython3",
   "version": "3.8.3-final"
  },
  "orig_nbformat": 2,
  "kernelspec": {
   "name": "python_defaultSpec_1599664409072",
   "display_name": "Python 3.8.3 64-bit ('base': conda)"
  }
 },
 "nbformat": 4,
 "nbformat_minor": 2,
 "cells": [
  {
   "cell_type": "code",
   "execution_count": 25,
   "metadata": {},
   "outputs": [],
   "source": [
    "import pandas as pd \n"
   ]
  },
  {
   "cell_type": "code",
   "execution_count": 26,
   "metadata": {},
   "outputs": [
    {
     "output_type": "execute_result",
     "data": {
      "text/plain": "   Year   Jan   Feb   Mar   Apr   May   Jun   Jul   Aug   Sep   Oct   Nov  \\\n0  1950  23.5  23.5  23.6  23.6  23.7  23.8  24.1  24.3  24.4  24.6  24.7   \n1  1951  25.4  25.7  25.8  25.8  25.9  25.9  25.9  25.9  26.1  26.2  26.4   \n2  1952  26.5  26.3  26.3  26.4  26.4  26.5  26.7  26.7  26.7  26.7  26.7   \n3  1953  26.6  26.5  26.6  26.6  26.7  26.8  26.8  26.9  26.9  27.0  26.9   \n4  1954  26.9  26.9  26.9  26.8  26.9  26.9  26.9  26.9  26.8  26.8  26.8   \n\n    Dec  Annual  HALF1  HALF2  \n0  25.0    24.1    NaN    NaN  \n1  26.5    26.0    NaN    NaN  \n2  26.7    26.5    NaN    NaN  \n3  26.9    26.7    NaN    NaN  \n4  26.7    26.9    NaN    NaN  ",
      "text/html": "<div>\n<style scoped>\n    .dataframe tbody tr th:only-of-type {\n        vertical-align: middle;\n    }\n\n    .dataframe tbody tr th {\n        vertical-align: top;\n    }\n\n    .dataframe thead th {\n        text-align: right;\n    }\n</style>\n<table border=\"1\" class=\"dataframe\">\n  <thead>\n    <tr style=\"text-align: right;\">\n      <th></th>\n      <th>Year</th>\n      <th>Jan</th>\n      <th>Feb</th>\n      <th>Mar</th>\n      <th>Apr</th>\n      <th>May</th>\n      <th>Jun</th>\n      <th>Jul</th>\n      <th>Aug</th>\n      <th>Sep</th>\n      <th>Oct</th>\n      <th>Nov</th>\n      <th>Dec</th>\n      <th>Annual</th>\n      <th>HALF1</th>\n      <th>HALF2</th>\n    </tr>\n  </thead>\n  <tbody>\n    <tr>\n      <th>0</th>\n      <td>1950</td>\n      <td>23.5</td>\n      <td>23.5</td>\n      <td>23.6</td>\n      <td>23.6</td>\n      <td>23.7</td>\n      <td>23.8</td>\n      <td>24.1</td>\n      <td>24.3</td>\n      <td>24.4</td>\n      <td>24.6</td>\n      <td>24.7</td>\n      <td>25.0</td>\n      <td>24.1</td>\n      <td>NaN</td>\n      <td>NaN</td>\n    </tr>\n    <tr>\n      <th>1</th>\n      <td>1951</td>\n      <td>25.4</td>\n      <td>25.7</td>\n      <td>25.8</td>\n      <td>25.8</td>\n      <td>25.9</td>\n      <td>25.9</td>\n      <td>25.9</td>\n      <td>25.9</td>\n      <td>26.1</td>\n      <td>26.2</td>\n      <td>26.4</td>\n      <td>26.5</td>\n      <td>26.0</td>\n      <td>NaN</td>\n      <td>NaN</td>\n    </tr>\n    <tr>\n      <th>2</th>\n      <td>1952</td>\n      <td>26.5</td>\n      <td>26.3</td>\n      <td>26.3</td>\n      <td>26.4</td>\n      <td>26.4</td>\n      <td>26.5</td>\n      <td>26.7</td>\n      <td>26.7</td>\n      <td>26.7</td>\n      <td>26.7</td>\n      <td>26.7</td>\n      <td>26.7</td>\n      <td>26.5</td>\n      <td>NaN</td>\n      <td>NaN</td>\n    </tr>\n    <tr>\n      <th>3</th>\n      <td>1953</td>\n      <td>26.6</td>\n      <td>26.5</td>\n      <td>26.6</td>\n      <td>26.6</td>\n      <td>26.7</td>\n      <td>26.8</td>\n      <td>26.8</td>\n      <td>26.9</td>\n      <td>26.9</td>\n      <td>27.0</td>\n      <td>26.9</td>\n      <td>26.9</td>\n      <td>26.7</td>\n      <td>NaN</td>\n      <td>NaN</td>\n    </tr>\n    <tr>\n      <th>4</th>\n      <td>1954</td>\n      <td>26.9</td>\n      <td>26.9</td>\n      <td>26.9</td>\n      <td>26.8</td>\n      <td>26.9</td>\n      <td>26.9</td>\n      <td>26.9</td>\n      <td>26.9</td>\n      <td>26.8</td>\n      <td>26.8</td>\n      <td>26.8</td>\n      <td>26.7</td>\n      <td>26.9</td>\n      <td>NaN</td>\n      <td>NaN</td>\n    </tr>\n  </tbody>\n</table>\n</div>"
     },
     "metadata": {},
     "execution_count": 26
    }
   ],
   "source": [
    "CPI = 'CPIdata1950-2020.csv'\n",
    "CPI_df = pd.read_csv(CPI)\n",
    "CPI_df.head()"
   ]
  },
  {
   "cell_type": "code",
   "execution_count": 27,
   "metadata": {},
   "outputs": [],
   "source": [
    "# create index multiplier\n",
    "CPI_df['CPI_Multiplier'] = CPI_df['Annual'].iloc[-2] / CPI_df['Annual']"
   ]
  },
  {
   "cell_type": "code",
   "execution_count": 28,
   "metadata": {},
   "outputs": [
    {
     "output_type": "execute_result",
     "data": {
      "text/plain": "    Year      Jan      Feb      Mar      Apr      May      Jun      Jul  \\\n0   1950   23.500   23.500   23.600   23.600   23.700   23.800   24.100   \n1   1951   25.400   25.700   25.800   25.800   25.900   25.900   25.900   \n2   1952   26.500   26.300   26.300   26.400   26.400   26.500   26.700   \n3   1953   26.600   26.500   26.600   26.600   26.700   26.800   26.800   \n4   1954   26.900   26.900   26.900   26.800   26.900   26.900   26.900   \n..   ...      ...      ...      ...      ...      ...      ...      ...   \n66  2016  236.916  237.111  238.132  239.261  240.229  241.018  240.628   \n67  2017  242.839  243.603  243.801  244.524  244.733  244.955  244.786   \n68  2018  247.867  248.991  249.554  250.546  251.588  251.989  252.006   \n69  2019  251.712  252.776  254.202  255.548  256.092  256.143  256.571   \n70  2020  257.971  258.678  258.115  256.389  256.394  257.797  259.101   \n\n        Aug      Sep      Oct      Nov      Dec   Annual    HALF1    HALF2  \\\n0    24.300   24.400   24.600   24.700   25.000   24.100      NaN      NaN   \n1    25.900   26.100   26.200   26.400   26.500   26.000      NaN      NaN   \n2    26.700   26.700   26.700   26.700   26.700   26.500      NaN      NaN   \n3    26.900   26.900   27.000   26.900   26.900   26.700      NaN      NaN   \n4    26.900   26.800   26.800   26.800   26.700   26.900      NaN      NaN   \n..      ...      ...      ...      ...      ...      ...      ...      ...   \n66  240.849  241.428  241.729  241.353  241.432  240.007  238.778  241.237   \n67  245.519  246.819  246.663  246.669  246.524  245.120  244.076  246.163   \n68  252.146  252.439  252.885  252.038  251.233  251.107  250.089  252.125   \n69  256.558  256.759  257.346  257.208  256.974  255.657  254.412  256.903   \n70      NaN      NaN      NaN      NaN      NaN      NaN  257.557      NaN   \n\n    CPI_Multiplier  \n0        10.608174  \n1         9.832962  \n2         9.647434  \n3         9.575169  \n4         9.503978  \n..             ...  \n66        1.065206  \n67        1.042987  \n68        1.018120  \n69        1.000000  \n70             NaN  \n\n[71 rows x 17 columns]",
      "text/html": "<div>\n<style scoped>\n    .dataframe tbody tr th:only-of-type {\n        vertical-align: middle;\n    }\n\n    .dataframe tbody tr th {\n        vertical-align: top;\n    }\n\n    .dataframe thead th {\n        text-align: right;\n    }\n</style>\n<table border=\"1\" class=\"dataframe\">\n  <thead>\n    <tr style=\"text-align: right;\">\n      <th></th>\n      <th>Year</th>\n      <th>Jan</th>\n      <th>Feb</th>\n      <th>Mar</th>\n      <th>Apr</th>\n      <th>May</th>\n      <th>Jun</th>\n      <th>Jul</th>\n      <th>Aug</th>\n      <th>Sep</th>\n      <th>Oct</th>\n      <th>Nov</th>\n      <th>Dec</th>\n      <th>Annual</th>\n      <th>HALF1</th>\n      <th>HALF2</th>\n      <th>CPI_Multiplier</th>\n    </tr>\n  </thead>\n  <tbody>\n    <tr>\n      <th>0</th>\n      <td>1950</td>\n      <td>23.500</td>\n      <td>23.500</td>\n      <td>23.600</td>\n      <td>23.600</td>\n      <td>23.700</td>\n      <td>23.800</td>\n      <td>24.100</td>\n      <td>24.300</td>\n      <td>24.400</td>\n      <td>24.600</td>\n      <td>24.700</td>\n      <td>25.000</td>\n      <td>24.100</td>\n      <td>NaN</td>\n      <td>NaN</td>\n      <td>10.608174</td>\n    </tr>\n    <tr>\n      <th>1</th>\n      <td>1951</td>\n      <td>25.400</td>\n      <td>25.700</td>\n      <td>25.800</td>\n      <td>25.800</td>\n      <td>25.900</td>\n      <td>25.900</td>\n      <td>25.900</td>\n      <td>25.900</td>\n      <td>26.100</td>\n      <td>26.200</td>\n      <td>26.400</td>\n      <td>26.500</td>\n      <td>26.000</td>\n      <td>NaN</td>\n      <td>NaN</td>\n      <td>9.832962</td>\n    </tr>\n    <tr>\n      <th>2</th>\n      <td>1952</td>\n      <td>26.500</td>\n      <td>26.300</td>\n      <td>26.300</td>\n      <td>26.400</td>\n      <td>26.400</td>\n      <td>26.500</td>\n      <td>26.700</td>\n      <td>26.700</td>\n      <td>26.700</td>\n      <td>26.700</td>\n      <td>26.700</td>\n      <td>26.700</td>\n      <td>26.500</td>\n      <td>NaN</td>\n      <td>NaN</td>\n      <td>9.647434</td>\n    </tr>\n    <tr>\n      <th>3</th>\n      <td>1953</td>\n      <td>26.600</td>\n      <td>26.500</td>\n      <td>26.600</td>\n      <td>26.600</td>\n      <td>26.700</td>\n      <td>26.800</td>\n      <td>26.800</td>\n      <td>26.900</td>\n      <td>26.900</td>\n      <td>27.000</td>\n      <td>26.900</td>\n      <td>26.900</td>\n      <td>26.700</td>\n      <td>NaN</td>\n      <td>NaN</td>\n      <td>9.575169</td>\n    </tr>\n    <tr>\n      <th>4</th>\n      <td>1954</td>\n      <td>26.900</td>\n      <td>26.900</td>\n      <td>26.900</td>\n      <td>26.800</td>\n      <td>26.900</td>\n      <td>26.900</td>\n      <td>26.900</td>\n      <td>26.900</td>\n      <td>26.800</td>\n      <td>26.800</td>\n      <td>26.800</td>\n      <td>26.700</td>\n      <td>26.900</td>\n      <td>NaN</td>\n      <td>NaN</td>\n      <td>9.503978</td>\n    </tr>\n    <tr>\n      <th>...</th>\n      <td>...</td>\n      <td>...</td>\n      <td>...</td>\n      <td>...</td>\n      <td>...</td>\n      <td>...</td>\n      <td>...</td>\n      <td>...</td>\n      <td>...</td>\n      <td>...</td>\n      <td>...</td>\n      <td>...</td>\n      <td>...</td>\n      <td>...</td>\n      <td>...</td>\n      <td>...</td>\n      <td>...</td>\n    </tr>\n    <tr>\n      <th>66</th>\n      <td>2016</td>\n      <td>236.916</td>\n      <td>237.111</td>\n      <td>238.132</td>\n      <td>239.261</td>\n      <td>240.229</td>\n      <td>241.018</td>\n      <td>240.628</td>\n      <td>240.849</td>\n      <td>241.428</td>\n      <td>241.729</td>\n      <td>241.353</td>\n      <td>241.432</td>\n      <td>240.007</td>\n      <td>238.778</td>\n      <td>241.237</td>\n      <td>1.065206</td>\n    </tr>\n    <tr>\n      <th>67</th>\n      <td>2017</td>\n      <td>242.839</td>\n      <td>243.603</td>\n      <td>243.801</td>\n      <td>244.524</td>\n      <td>244.733</td>\n      <td>244.955</td>\n      <td>244.786</td>\n      <td>245.519</td>\n      <td>246.819</td>\n      <td>246.663</td>\n      <td>246.669</td>\n      <td>246.524</td>\n      <td>245.120</td>\n      <td>244.076</td>\n      <td>246.163</td>\n      <td>1.042987</td>\n    </tr>\n    <tr>\n      <th>68</th>\n      <td>2018</td>\n      <td>247.867</td>\n      <td>248.991</td>\n      <td>249.554</td>\n      <td>250.546</td>\n      <td>251.588</td>\n      <td>251.989</td>\n      <td>252.006</td>\n      <td>252.146</td>\n      <td>252.439</td>\n      <td>252.885</td>\n      <td>252.038</td>\n      <td>251.233</td>\n      <td>251.107</td>\n      <td>250.089</td>\n      <td>252.125</td>\n      <td>1.018120</td>\n    </tr>\n    <tr>\n      <th>69</th>\n      <td>2019</td>\n      <td>251.712</td>\n      <td>252.776</td>\n      <td>254.202</td>\n      <td>255.548</td>\n      <td>256.092</td>\n      <td>256.143</td>\n      <td>256.571</td>\n      <td>256.558</td>\n      <td>256.759</td>\n      <td>257.346</td>\n      <td>257.208</td>\n      <td>256.974</td>\n      <td>255.657</td>\n      <td>254.412</td>\n      <td>256.903</td>\n      <td>1.000000</td>\n    </tr>\n    <tr>\n      <th>70</th>\n      <td>2020</td>\n      <td>257.971</td>\n      <td>258.678</td>\n      <td>258.115</td>\n      <td>256.389</td>\n      <td>256.394</td>\n      <td>257.797</td>\n      <td>259.101</td>\n      <td>NaN</td>\n      <td>NaN</td>\n      <td>NaN</td>\n      <td>NaN</td>\n      <td>NaN</td>\n      <td>NaN</td>\n      <td>257.557</td>\n      <td>NaN</td>\n      <td>NaN</td>\n    </tr>\n  </tbody>\n</table>\n<p>71 rows × 17 columns</p>\n</div>"
     },
     "metadata": {},
     "execution_count": 28
    }
   ],
   "source": [
    "CPI_df"
   ]
  },
  {
   "cell_type": "code",
   "execution_count": 30,
   "metadata": {},
   "outputs": [],
   "source": [
    "clean_cpi = CPI_df.drop(['Jan','Feb','Mar','Apr','May','Jun','Jul','Aug','Sep','Oct','Nov','Dec','Annual','HALF1','HALF2'], axis=1)"
   ]
  },
  {
   "cell_type": "code",
   "execution_count": 32,
   "metadata": {},
   "outputs": [],
   "source": [
    "clean_cpi = clean_cpi.drop(index=70)"
   ]
  },
  {
   "cell_type": "code",
   "execution_count": 33,
   "metadata": {},
   "outputs": [
    {
     "output_type": "execute_result",
     "data": {
      "text/plain": "    Year  CPI_Multiplier\n0   1950       10.608174\n1   1951        9.832962\n2   1952        9.647434\n3   1953        9.575169\n4   1954        9.503978\n..   ...             ...\n65  2015        1.078644\n66  2016        1.065206\n67  2017        1.042987\n68  2018        1.018120\n69  2019        1.000000\n\n[70 rows x 2 columns]",
      "text/html": "<div>\n<style scoped>\n    .dataframe tbody tr th:only-of-type {\n        vertical-align: middle;\n    }\n\n    .dataframe tbody tr th {\n        vertical-align: top;\n    }\n\n    .dataframe thead th {\n        text-align: right;\n    }\n</style>\n<table border=\"1\" class=\"dataframe\">\n  <thead>\n    <tr style=\"text-align: right;\">\n      <th></th>\n      <th>Year</th>\n      <th>CPI_Multiplier</th>\n    </tr>\n  </thead>\n  <tbody>\n    <tr>\n      <th>0</th>\n      <td>1950</td>\n      <td>10.608174</td>\n    </tr>\n    <tr>\n      <th>1</th>\n      <td>1951</td>\n      <td>9.832962</td>\n    </tr>\n    <tr>\n      <th>2</th>\n      <td>1952</td>\n      <td>9.647434</td>\n    </tr>\n    <tr>\n      <th>3</th>\n      <td>1953</td>\n      <td>9.575169</td>\n    </tr>\n    <tr>\n      <th>4</th>\n      <td>1954</td>\n      <td>9.503978</td>\n    </tr>\n    <tr>\n      <th>...</th>\n      <td>...</td>\n      <td>...</td>\n    </tr>\n    <tr>\n      <th>65</th>\n      <td>2015</td>\n      <td>1.078644</td>\n    </tr>\n    <tr>\n      <th>66</th>\n      <td>2016</td>\n      <td>1.065206</td>\n    </tr>\n    <tr>\n      <th>67</th>\n      <td>2017</td>\n      <td>1.042987</td>\n    </tr>\n    <tr>\n      <th>68</th>\n      <td>2018</td>\n      <td>1.018120</td>\n    </tr>\n    <tr>\n      <th>69</th>\n      <td>2019</td>\n      <td>1.000000</td>\n    </tr>\n  </tbody>\n</table>\n<p>70 rows × 2 columns</p>\n</div>"
     },
     "metadata": {},
     "execution_count": 33
    }
   ],
   "source": [
    "clean_cpi"
   ]
  },
  {
   "cell_type": "code",
   "execution_count": 35,
   "metadata": {},
   "outputs": [],
   "source": [
    "clean_cpi.to_csv('clean_cpi.csv', index=False)"
   ]
  },
  {
   "cell_type": "code",
   "execution_count": null,
   "metadata": {},
   "outputs": [],
   "source": []
  }
 ]
}
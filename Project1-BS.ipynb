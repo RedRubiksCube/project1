{
 "cells": [
  {
   "cell_type": "code",
   "execution_count": 1,
   "metadata": {
    "collapsed": true
   },
   "outputs": [],
   "source": [
    "# Import the Pandas library\n",
    "import pandas as pd"
   ]
  },
  {
   "cell_type": "code",
   "execution_count": 5,
   "metadata": {},
   "outputs": [
    {
     "output_type": "execute_result",
     "data": {
      "text/plain": "     disasterNumber  ihProgramDeclared  iaProgramDeclared  paProgramDeclared  \\\n900             226                  0                  1                  1   \n901             224                  0                  1                  1   \n902             228                  0                  1                  1   \n903             226                  0                  1                  1   \n904             226                  0                  1                  1   \n..              ...                ...                ...                ...   \n995             229                  0                  1                  1   \n996             231                  0                  1                  1   \n997             229                  0                  1                  1   \n998             229                  0                  1                  1   \n999             231                  0                  1                  1   \n\n     hmProgramDeclared state           declarationDate  fyDeclared  \\\n900                  0    KY  1967-03-27T00:00:00.000Z        1967   \n901                  0    WV  1967-03-13T00:00:00.000Z        1967   \n902                  0    NE  1967-07-18T00:00:00.000Z        1967   \n903                  0    KY  1967-03-27T00:00:00.000Z        1967   \n904                  0    KY  1967-03-27T00:00:00.000Z        1967   \n..                 ...   ...                       ...         ...   \n995                  0    KS  1967-07-18T00:00:00.000Z        1967   \n996                  0    ID  1967-08-30T00:00:00.000Z        1967   \n997                  0    KS  1967-07-18T00:00:00.000Z        1967   \n998                  0    KS  1967-07-18T00:00:00.000Z        1967   \n999                  0    ID  1967-08-30T00:00:00.000Z        1967   \n\n    disasterType incidentType                                title  \\\n900           DR        Flood             SEVERE STORMS & FLOODING   \n901           DR        Flood                             FLOODING   \n902           DR        Flood             SEVERE STORMS & FLOODING   \n903           DR        Flood             SEVERE STORMS & FLOODING   \n904           DR        Flood             SEVERE STORMS & FLOODING   \n..           ...          ...                                  ...   \n995           DR      Tornado  TORNADOES, SEVERE STORMS & FLOODING   \n996           DR         Fire                         FOREST FIRES   \n997           DR      Tornado  TORNADOES, SEVERE STORMS & FLOODING   \n998           DR      Tornado  TORNADOES, SEVERE STORMS & FLOODING   \n999           DR         Fire                         FOREST FIRES   \n\n            incidentBeginDate           incidentEndDate  \\\n900  1967-03-27T00:00:00.000Z  1967-03-27T00:00:00.000Z   \n901  1967-03-13T00:00:00.000Z  1967-03-13T00:00:00.000Z   \n902  1967-07-18T00:00:00.000Z  1967-07-18T00:00:00.000Z   \n903  1967-03-27T00:00:00.000Z  1967-03-27T00:00:00.000Z   \n904  1967-03-27T00:00:00.000Z  1967-03-27T00:00:00.000Z   \n..                        ...                       ...   \n995  1967-07-18T00:00:00.000Z  1967-07-18T00:00:00.000Z   \n996  1967-08-30T00:00:00.000Z  1967-08-30T00:00:00.000Z   \n997  1967-07-18T00:00:00.000Z  1967-07-18T00:00:00.000Z   \n998  1967-07-18T00:00:00.000Z  1967-07-18T00:00:00.000Z   \n999  1967-08-30T00:00:00.000Z  1967-08-30T00:00:00.000Z   \n\n         disasterCloseOutDate     declaredCountyArea  placeCode  \\\n900  1972-10-04T00:00:00.000Z     Breathitt (County)    99025.0   \n901  1969-08-11T00:00:00.000Z       Summers (County)    99089.0   \n902  1971-08-16T00:00:00.000Z          Boyd (County)    99015.0   \n903  1972-10-04T00:00:00.000Z         Lewis (County)    99135.0   \n904  1972-10-04T00:00:00.000Z      Magoffin (County)    99153.0   \n..                        ...                    ...        ...   \n995  1969-07-09T00:00:00.000Z  Pottawatomie (County)    99149.0   \n996  1970-06-17T00:00:00.000Z         Idaho (County)    99049.0   \n997  1969-07-09T00:00:00.000Z        Marion (County)    99115.0   \n998  1969-07-09T00:00:00.000Z    Washington (County)    99201.0   \n999  1970-06-17T00:00:00.000Z      Boundary (County)    99021.0   \n\n                                 hash               lastRefresh  \\\n900  650e0a2fdd2202179be4df5af8829ad0  2019-07-26T18:08:58.516Z   \n901  5d9704c4a607c27ea84eae96f4203a73  2019-07-26T18:08:58.511Z   \n902  b7c6f6a04d0e6882eb71d6a8b15207ce  2019-07-26T18:08:58.635Z   \n903  d8117235a8b993c4a49736ad92b18c69  2019-07-26T18:08:58.640Z   \n904  acfea9fce321a5b537dd5af62e0318bd  2019-07-26T18:08:58.508Z   \n..                                ...                       ...   \n995  b1d1a4c2d0af8bc2024602954664af06  2019-07-26T18:08:58.634Z   \n996  342dff3f482ad92ce182da5bda6f934f  2019-07-26T18:08:58.444Z   \n997  a5fd442665ac7ccd08cc3de89e1a96a2  2019-07-26T18:08:58.295Z   \n998  a4c93ae8f34e8803db1dbd4ed514ed2b  2019-07-26T18:08:58.786Z   \n999  f3d63dcd0c553b67d6b2c040a1d18040  2019-07-26T18:08:58.443Z   \n\n                           id  \n900  5d1bbd948bdcfa6efb330111  \n901  5d1bbd948bdcfa6efb330112  \n902  5d1bbd948bdcfa6efb330113  \n903  5d1bbd948bdcfa6efb330114  \n904  5d1bbd948bdcfa6efb330115  \n..                        ...  \n995  5d1bbd948bdcfa6efb330170  \n996  5d1bbd948bdcfa6efb330171  \n997  5d1bbd948bdcfa6efb330172  \n998  5d1bbd948bdcfa6efb330173  \n999  5d1bbd948bdcfa6efb330174  \n\n[100 rows x 19 columns]",
      "text/html": "<div>\n<style scoped>\n    .dataframe tbody tr th:only-of-type {\n        vertical-align: middle;\n    }\n\n    .dataframe tbody tr th {\n        vertical-align: top;\n    }\n\n    .dataframe thead th {\n        text-align: right;\n    }\n</style>\n<table border=\"1\" class=\"dataframe\">\n  <thead>\n    <tr style=\"text-align: right;\">\n      <th></th>\n      <th>disasterNumber</th>\n      <th>ihProgramDeclared</th>\n      <th>iaProgramDeclared</th>\n      <th>paProgramDeclared</th>\n      <th>hmProgramDeclared</th>\n      <th>state</th>\n      <th>declarationDate</th>\n      <th>fyDeclared</th>\n      <th>disasterType</th>\n      <th>incidentType</th>\n      <th>title</th>\n      <th>incidentBeginDate</th>\n      <th>incidentEndDate</th>\n      <th>disasterCloseOutDate</th>\n      <th>declaredCountyArea</th>\n      <th>placeCode</th>\n      <th>hash</th>\n      <th>lastRefresh</th>\n      <th>id</th>\n    </tr>\n  </thead>\n  <tbody>\n    <tr>\n      <th>900</th>\n      <td>226</td>\n      <td>0</td>\n      <td>1</td>\n      <td>1</td>\n      <td>0</td>\n      <td>KY</td>\n      <td>1967-03-27T00:00:00.000Z</td>\n      <td>1967</td>\n      <td>DR</td>\n      <td>Flood</td>\n      <td>SEVERE STORMS &amp; FLOODING</td>\n      <td>1967-03-27T00:00:00.000Z</td>\n      <td>1967-03-27T00:00:00.000Z</td>\n      <td>1972-10-04T00:00:00.000Z</td>\n      <td>Breathitt (County)</td>\n      <td>99025.0</td>\n      <td>650e0a2fdd2202179be4df5af8829ad0</td>\n      <td>2019-07-26T18:08:58.516Z</td>\n      <td>5d1bbd948bdcfa6efb330111</td>\n    </tr>\n    <tr>\n      <th>901</th>\n      <td>224</td>\n      <td>0</td>\n      <td>1</td>\n      <td>1</td>\n      <td>0</td>\n      <td>WV</td>\n      <td>1967-03-13T00:00:00.000Z</td>\n      <td>1967</td>\n      <td>DR</td>\n      <td>Flood</td>\n      <td>FLOODING</td>\n      <td>1967-03-13T00:00:00.000Z</td>\n      <td>1967-03-13T00:00:00.000Z</td>\n      <td>1969-08-11T00:00:00.000Z</td>\n      <td>Summers (County)</td>\n      <td>99089.0</td>\n      <td>5d9704c4a607c27ea84eae96f4203a73</td>\n      <td>2019-07-26T18:08:58.511Z</td>\n      <td>5d1bbd948bdcfa6efb330112</td>\n    </tr>\n    <tr>\n      <th>902</th>\n      <td>228</td>\n      <td>0</td>\n      <td>1</td>\n      <td>1</td>\n      <td>0</td>\n      <td>NE</td>\n      <td>1967-07-18T00:00:00.000Z</td>\n      <td>1967</td>\n      <td>DR</td>\n      <td>Flood</td>\n      <td>SEVERE STORMS &amp; FLOODING</td>\n      <td>1967-07-18T00:00:00.000Z</td>\n      <td>1967-07-18T00:00:00.000Z</td>\n      <td>1971-08-16T00:00:00.000Z</td>\n      <td>Boyd (County)</td>\n      <td>99015.0</td>\n      <td>b7c6f6a04d0e6882eb71d6a8b15207ce</td>\n      <td>2019-07-26T18:08:58.635Z</td>\n      <td>5d1bbd948bdcfa6efb330113</td>\n    </tr>\n    <tr>\n      <th>903</th>\n      <td>226</td>\n      <td>0</td>\n      <td>1</td>\n      <td>1</td>\n      <td>0</td>\n      <td>KY</td>\n      <td>1967-03-27T00:00:00.000Z</td>\n      <td>1967</td>\n      <td>DR</td>\n      <td>Flood</td>\n      <td>SEVERE STORMS &amp; FLOODING</td>\n      <td>1967-03-27T00:00:00.000Z</td>\n      <td>1967-03-27T00:00:00.000Z</td>\n      <td>1972-10-04T00:00:00.000Z</td>\n      <td>Lewis (County)</td>\n      <td>99135.0</td>\n      <td>d8117235a8b993c4a49736ad92b18c69</td>\n      <td>2019-07-26T18:08:58.640Z</td>\n      <td>5d1bbd948bdcfa6efb330114</td>\n    </tr>\n    <tr>\n      <th>904</th>\n      <td>226</td>\n      <td>0</td>\n      <td>1</td>\n      <td>1</td>\n      <td>0</td>\n      <td>KY</td>\n      <td>1967-03-27T00:00:00.000Z</td>\n      <td>1967</td>\n      <td>DR</td>\n      <td>Flood</td>\n      <td>SEVERE STORMS &amp; FLOODING</td>\n      <td>1967-03-27T00:00:00.000Z</td>\n      <td>1967-03-27T00:00:00.000Z</td>\n      <td>1972-10-04T00:00:00.000Z</td>\n      <td>Magoffin (County)</td>\n      <td>99153.0</td>\n      <td>acfea9fce321a5b537dd5af62e0318bd</td>\n      <td>2019-07-26T18:08:58.508Z</td>\n      <td>5d1bbd948bdcfa6efb330115</td>\n    </tr>\n    <tr>\n      <th>...</th>\n      <td>...</td>\n      <td>...</td>\n      <td>...</td>\n      <td>...</td>\n      <td>...</td>\n      <td>...</td>\n      <td>...</td>\n      <td>...</td>\n      <td>...</td>\n      <td>...</td>\n      <td>...</td>\n      <td>...</td>\n      <td>...</td>\n      <td>...</td>\n      <td>...</td>\n      <td>...</td>\n      <td>...</td>\n      <td>...</td>\n      <td>...</td>\n    </tr>\n    <tr>\n      <th>995</th>\n      <td>229</td>\n      <td>0</td>\n      <td>1</td>\n      <td>1</td>\n      <td>0</td>\n      <td>KS</td>\n      <td>1967-07-18T00:00:00.000Z</td>\n      <td>1967</td>\n      <td>DR</td>\n      <td>Tornado</td>\n      <td>TORNADOES, SEVERE STORMS &amp; FLOODING</td>\n      <td>1967-07-18T00:00:00.000Z</td>\n      <td>1967-07-18T00:00:00.000Z</td>\n      <td>1969-07-09T00:00:00.000Z</td>\n      <td>Pottawatomie (County)</td>\n      <td>99149.0</td>\n      <td>b1d1a4c2d0af8bc2024602954664af06</td>\n      <td>2019-07-26T18:08:58.634Z</td>\n      <td>5d1bbd948bdcfa6efb330170</td>\n    </tr>\n    <tr>\n      <th>996</th>\n      <td>231</td>\n      <td>0</td>\n      <td>1</td>\n      <td>1</td>\n      <td>0</td>\n      <td>ID</td>\n      <td>1967-08-30T00:00:00.000Z</td>\n      <td>1967</td>\n      <td>DR</td>\n      <td>Fire</td>\n      <td>FOREST FIRES</td>\n      <td>1967-08-30T00:00:00.000Z</td>\n      <td>1967-08-30T00:00:00.000Z</td>\n      <td>1970-06-17T00:00:00.000Z</td>\n      <td>Idaho (County)</td>\n      <td>99049.0</td>\n      <td>342dff3f482ad92ce182da5bda6f934f</td>\n      <td>2019-07-26T18:08:58.444Z</td>\n      <td>5d1bbd948bdcfa6efb330171</td>\n    </tr>\n    <tr>\n      <th>997</th>\n      <td>229</td>\n      <td>0</td>\n      <td>1</td>\n      <td>1</td>\n      <td>0</td>\n      <td>KS</td>\n      <td>1967-07-18T00:00:00.000Z</td>\n      <td>1967</td>\n      <td>DR</td>\n      <td>Tornado</td>\n      <td>TORNADOES, SEVERE STORMS &amp; FLOODING</td>\n      <td>1967-07-18T00:00:00.000Z</td>\n      <td>1967-07-18T00:00:00.000Z</td>\n      <td>1969-07-09T00:00:00.000Z</td>\n      <td>Marion (County)</td>\n      <td>99115.0</td>\n      <td>a5fd442665ac7ccd08cc3de89e1a96a2</td>\n      <td>2019-07-26T18:08:58.295Z</td>\n      <td>5d1bbd948bdcfa6efb330172</td>\n    </tr>\n    <tr>\n      <th>998</th>\n      <td>229</td>\n      <td>0</td>\n      <td>1</td>\n      <td>1</td>\n      <td>0</td>\n      <td>KS</td>\n      <td>1967-07-18T00:00:00.000Z</td>\n      <td>1967</td>\n      <td>DR</td>\n      <td>Tornado</td>\n      <td>TORNADOES, SEVERE STORMS &amp; FLOODING</td>\n      <td>1967-07-18T00:00:00.000Z</td>\n      <td>1967-07-18T00:00:00.000Z</td>\n      <td>1969-07-09T00:00:00.000Z</td>\n      <td>Washington (County)</td>\n      <td>99201.0</td>\n      <td>a4c93ae8f34e8803db1dbd4ed514ed2b</td>\n      <td>2019-07-26T18:08:58.786Z</td>\n      <td>5d1bbd948bdcfa6efb330173</td>\n    </tr>\n    <tr>\n      <th>999</th>\n      <td>231</td>\n      <td>0</td>\n      <td>1</td>\n      <td>1</td>\n      <td>0</td>\n      <td>ID</td>\n      <td>1967-08-30T00:00:00.000Z</td>\n      <td>1967</td>\n      <td>DR</td>\n      <td>Fire</td>\n      <td>FOREST FIRES</td>\n      <td>1967-08-30T00:00:00.000Z</td>\n      <td>1967-08-30T00:00:00.000Z</td>\n      <td>1970-06-17T00:00:00.000Z</td>\n      <td>Boundary (County)</td>\n      <td>99021.0</td>\n      <td>f3d63dcd0c553b67d6b2c040a1d18040</td>\n      <td>2019-07-26T18:08:58.443Z</td>\n      <td>5d1bbd948bdcfa6efb330174</td>\n    </tr>\n  </tbody>\n</table>\n<p>100 rows × 19 columns</p>\n</div>"
     },
     "metadata": {},
     "execution_count": 5
    }
   ],
   "source": [
    "# Create a reference the CSV file desired\n",
    "csv_path = \"Data/DisasterDeclarationsSummaries.csv\"\n",
    "\n",
    "# Read the CSV into a Pandas DataFrame\n",
    "disaster_summary_df = pd.read_csv(csv_path)\n",
    "\n",
    "# Print the first five rows of data to the screen\n",
    "disaster_summary_df.tail(100)"
   ]
  },
  {
   "cell_type": "code",
   "execution_count": 3,
   "metadata": {},
   "outputs": [
    {
     "data": {
      "text/plain": [
       "datetime                80332\n",
       "city                    80332\n",
       "state                   74535\n",
       "country                 70662\n",
       "shape                   78400\n",
       "duration (seconds)      80332\n",
       "duration (hours/min)    80332\n",
       "comments                80317\n",
       "date posted             80332\n",
       "latitude                80332\n",
       "longitude               80332\n",
       "dtype: int64"
      ]
     },
     "execution_count": 3,
     "metadata": {},
     "output_type": "execute_result"
    }
   ],
   "source": [
    "# Check to see if there are any rows with missing data\n",
    "disaster_summary_df.count()"
   ]
  },
  {
   "cell_type": "markdown",
   "metadata": {},
   "source": [
    "# Remove the rows with missing data\n",
    "clean_ufo_df = ufo_df.dropna(how=\"any\")\n",
    "clean_ufo_df.count()"
   ]
  },
  {
   "cell_type": "code",
   "execution_count": 5,
   "metadata": {},
   "outputs": [
    {
     "data": {
      "text/html": [
       "<div>\n",
       "<style scoped>\n",
       "    .dataframe tbody tr th:only-of-type {\n",
       "        vertical-align: middle;\n",
       "    }\n",
       "\n",
       "    .dataframe tbody tr th {\n",
       "        vertical-align: top;\n",
       "    }\n",
       "\n",
       "    .dataframe thead th {\n",
       "        text-align: right;\n",
       "    }\n",
       "</style>\n",
       "<table border=\"1\" class=\"dataframe\">\n",
       "  <thead>\n",
       "    <tr style=\"text-align: right;\">\n",
       "      <th></th>\n",
       "      <th>datetime</th>\n",
       "      <th>city</th>\n",
       "      <th>state</th>\n",
       "      <th>country</th>\n",
       "      <th>shape</th>\n",
       "      <th>duration (seconds)</th>\n",
       "      <th>duration (hours/min)</th>\n",
       "      <th>comments</th>\n",
       "      <th>date posted</th>\n",
       "    </tr>\n",
       "  </thead>\n",
       "  <tbody>\n",
       "    <tr>\n",
       "      <th>0</th>\n",
       "      <td>10/10/1949 20:30</td>\n",
       "      <td>san marcos</td>\n",
       "      <td>tx</td>\n",
       "      <td>us</td>\n",
       "      <td>cylinder</td>\n",
       "      <td>2700</td>\n",
       "      <td>45 minutes</td>\n",
       "      <td>This event took place in early fall around 194...</td>\n",
       "      <td>4/27/2004</td>\n",
       "    </tr>\n",
       "    <tr>\n",
       "      <th>3</th>\n",
       "      <td>10/10/1956 21:00</td>\n",
       "      <td>edna</td>\n",
       "      <td>tx</td>\n",
       "      <td>us</td>\n",
       "      <td>circle</td>\n",
       "      <td>20</td>\n",
       "      <td>1/2 hour</td>\n",
       "      <td>My older brother and twin sister were leaving ...</td>\n",
       "      <td>1/17/2004</td>\n",
       "    </tr>\n",
       "    <tr>\n",
       "      <th>4</th>\n",
       "      <td>10/10/1960 20:00</td>\n",
       "      <td>kaneohe</td>\n",
       "      <td>hi</td>\n",
       "      <td>us</td>\n",
       "      <td>light</td>\n",
       "      <td>900</td>\n",
       "      <td>15 minutes</td>\n",
       "      <td>AS a Marine 1st Lt. flying an FJ4B fighter/att...</td>\n",
       "      <td>1/22/2004</td>\n",
       "    </tr>\n",
       "    <tr>\n",
       "      <th>5</th>\n",
       "      <td>10/10/1961 19:00</td>\n",
       "      <td>bristol</td>\n",
       "      <td>tn</td>\n",
       "      <td>us</td>\n",
       "      <td>sphere</td>\n",
       "      <td>300</td>\n",
       "      <td>5 minutes</td>\n",
       "      <td>My father is now 89 my brother 52 the girl wit...</td>\n",
       "      <td>4/27/2007</td>\n",
       "    </tr>\n",
       "    <tr>\n",
       "      <th>7</th>\n",
       "      <td>10/10/1965 23:45</td>\n",
       "      <td>norwalk</td>\n",
       "      <td>ct</td>\n",
       "      <td>us</td>\n",
       "      <td>disk</td>\n",
       "      <td>1200</td>\n",
       "      <td>20 minutes</td>\n",
       "      <td>A bright orange color changing to reddish colo...</td>\n",
       "      <td>10/2/1999</td>\n",
       "    </tr>\n",
       "  </tbody>\n",
       "</table>\n",
       "</div>"
      ],
      "text/plain": [
       "           datetime        city state country     shape duration (seconds)  \\\n",
       "0  10/10/1949 20:30  san marcos    tx      us  cylinder               2700   \n",
       "3  10/10/1956 21:00        edna    tx      us    circle                 20   \n",
       "4  10/10/1960 20:00     kaneohe    hi      us     light                900   \n",
       "5  10/10/1961 19:00     bristol    tn      us    sphere                300   \n",
       "7  10/10/1965 23:45     norwalk    ct      us      disk               1200   \n",
       "\n",
       "  duration (hours/min)                                           comments  \\\n",
       "0           45 minutes  This event took place in early fall around 194...   \n",
       "3             1/2 hour  My older brother and twin sister were leaving ...   \n",
       "4           15 minutes  AS a Marine 1st Lt. flying an FJ4B fighter/att...   \n",
       "5            5 minutes  My father is now 89 my brother 52 the girl wit...   \n",
       "7           20 minutes  A bright orange color changing to reddish colo...   \n",
       "\n",
       "  date posted  \n",
       "0   4/27/2004  \n",
       "3   1/17/2004  \n",
       "4   1/22/2004  \n",
       "5   4/27/2007  \n",
       "7   10/2/1999  "
      ]
     },
     "execution_count": 5,
     "metadata": {},
     "output_type": "execute_result"
    }
   ],
   "source": [
    "# Collect a list of sightings seen in the US\n",
    "columns = [\n",
    "    \"datetime\",\n",
    "    \"city\",\n",
    "    \"state\",\n",
    "    \"country\",\n",
    "    \"shape\",\n",
    "    \"duration (seconds)\",\n",
    "    \"duration (hours/min)\",\n",
    "    \"comments\",\n",
    "    \"date posted\"\n",
    "]\n",
    "\n",
    "# Filter the data so that only those sightings in the US are in a DataFrame\n",
    "usa_ufo_df = clean_ufo_df.loc[clean_ufo_df[\"country\"] == \"us\", columns]\n",
    "usa_ufo_df.head()"
   ]
  },
  {
   "cell_type": "code",
   "execution_count": 6,
   "metadata": {},
   "outputs": [
    {
     "data": {
      "text/plain": [
       "ca    8683\n",
       "fl    3754\n",
       "wa    3707\n",
       "tx    3398\n",
       "ny    2915\n",
       "il    2447\n",
       "az    2362\n",
       "pa    2319\n",
       "oh    2251\n",
       "mi    1781\n",
       "nc    1722\n",
       "or    1667\n",
       "mo    1431\n",
       "co    1385\n",
       "in    1268\n",
       "va    1248\n",
       "ma    1238\n",
       "nj    1236\n",
       "ga    1235\n",
       "wi    1205\n",
       "tn    1091\n",
       "mn     996\n",
       "sc     986\n",
       "ct     865\n",
       "ky     843\n",
       "md     818\n",
       "nv     778\n",
       "ok     714\n",
       "nm     693\n",
       "ia     669\n",
       "al     629\n",
       "ut     611\n",
       "ks     599\n",
       "ar     578\n",
       "la     547\n",
       "me     544\n",
       "id     508\n",
       "nh     482\n",
       "mt     460\n",
       "wv     438\n",
       "ne     373\n",
       "ms     368\n",
       "ak     311\n",
       "hi     257\n",
       "vt     254\n",
       "ri     224\n",
       "sd     177\n",
       "wy     169\n",
       "de     165\n",
       "nd     123\n",
       "pr      24\n",
       "dc       7\n",
       "Name: state, dtype: int64"
      ]
     },
     "execution_count": 6,
     "metadata": {},
     "output_type": "execute_result"
    }
   ],
   "source": [
    "# Count how many sightings have occured within each state\n",
    "state_counts = usa_ufo_df[\"state\"].value_counts()\n",
    "state_counts"
   ]
  },
  {
   "cell_type": "code",
   "execution_count": 7,
   "metadata": {},
   "outputs": [
    {
     "data": {
      "text/html": [
       "<div>\n",
       "<style scoped>\n",
       "    .dataframe tbody tr th:only-of-type {\n",
       "        vertical-align: middle;\n",
       "    }\n",
       "\n",
       "    .dataframe tbody tr th {\n",
       "        vertical-align: top;\n",
       "    }\n",
       "\n",
       "    .dataframe thead th {\n",
       "        text-align: right;\n",
       "    }\n",
       "</style>\n",
       "<table border=\"1\" class=\"dataframe\">\n",
       "  <thead>\n",
       "    <tr style=\"text-align: right;\">\n",
       "      <th></th>\n",
       "      <th>state</th>\n",
       "    </tr>\n",
       "  </thead>\n",
       "  <tbody>\n",
       "    <tr>\n",
       "      <th>ca</th>\n",
       "      <td>8683</td>\n",
       "    </tr>\n",
       "    <tr>\n",
       "      <th>fl</th>\n",
       "      <td>3754</td>\n",
       "    </tr>\n",
       "    <tr>\n",
       "      <th>wa</th>\n",
       "      <td>3707</td>\n",
       "    </tr>\n",
       "    <tr>\n",
       "      <th>tx</th>\n",
       "      <td>3398</td>\n",
       "    </tr>\n",
       "    <tr>\n",
       "      <th>ny</th>\n",
       "      <td>2915</td>\n",
       "    </tr>\n",
       "  </tbody>\n",
       "</table>\n",
       "</div>"
      ],
      "text/plain": [
       "    state\n",
       "ca   8683\n",
       "fl   3754\n",
       "wa   3707\n",
       "tx   3398\n",
       "ny   2915"
      ]
     },
     "execution_count": 7,
     "metadata": {},
     "output_type": "execute_result"
    }
   ],
   "source": [
    "# Convert the state_counts Series into a DataFrame\n",
    "state_ufo_counts_df = pd.DataFrame(state_counts)\n",
    "state_ufo_counts_df.head()"
   ]
  },
  {
   "cell_type": "code",
   "execution_count": 8,
   "metadata": {},
   "outputs": [
    {
     "data": {
      "text/html": [
       "<div>\n",
       "<style scoped>\n",
       "    .dataframe tbody tr th:only-of-type {\n",
       "        vertical-align: middle;\n",
       "    }\n",
       "\n",
       "    .dataframe tbody tr th {\n",
       "        vertical-align: top;\n",
       "    }\n",
       "\n",
       "    .dataframe thead th {\n",
       "        text-align: right;\n",
       "    }\n",
       "</style>\n",
       "<table border=\"1\" class=\"dataframe\">\n",
       "  <thead>\n",
       "    <tr style=\"text-align: right;\">\n",
       "      <th></th>\n",
       "      <th>Sum of Sightings</th>\n",
       "    </tr>\n",
       "  </thead>\n",
       "  <tbody>\n",
       "    <tr>\n",
       "      <th>ca</th>\n",
       "      <td>8683</td>\n",
       "    </tr>\n",
       "    <tr>\n",
       "      <th>fl</th>\n",
       "      <td>3754</td>\n",
       "    </tr>\n",
       "    <tr>\n",
       "      <th>wa</th>\n",
       "      <td>3707</td>\n",
       "    </tr>\n",
       "    <tr>\n",
       "      <th>tx</th>\n",
       "      <td>3398</td>\n",
       "    </tr>\n",
       "    <tr>\n",
       "      <th>ny</th>\n",
       "      <td>2915</td>\n",
       "    </tr>\n",
       "  </tbody>\n",
       "</table>\n",
       "</div>"
      ],
      "text/plain": [
       "    Sum of Sightings\n",
       "ca              8683\n",
       "fl              3754\n",
       "wa              3707\n",
       "tx              3398\n",
       "ny              2915"
      ]
     },
     "execution_count": 8,
     "metadata": {},
     "output_type": "execute_result"
    }
   ],
   "source": [
    "# Convert the column name into \"Sum of Sightings\"\n",
    "state_ufo_counts_df = state_ufo_counts_df.rename(\n",
    "    columns={\"state\": \"Sum of Sightings\"})\n",
    "state_ufo_counts_df.head()"
   ]
  },
  {
   "cell_type": "code",
   "execution_count": 9,
   "metadata": {},
   "outputs": [
    {
     "data": {
      "text/plain": [
       "datetime                object\n",
       "city                    object\n",
       "state                   object\n",
       "country                 object\n",
       "shape                   object\n",
       "duration (seconds)      object\n",
       "duration (hours/min)    object\n",
       "comments                object\n",
       "date posted             object\n",
       "dtype: object"
      ]
     },
     "execution_count": 9,
     "metadata": {},
     "output_type": "execute_result"
    }
   ],
   "source": [
    "# Want to add up the seconds UFOs are seen? There is a problem\n",
    "# Problem can be seen by examining datatypes within the DataFrame\n",
    "usa_ufo_df.dtypes"
   ]
  },
  {
   "cell_type": "code",
   "execution_count": 10,
   "metadata": {},
   "outputs": [
    {
     "data": {
      "text/plain": [
       "datetime                 object\n",
       "city                     object\n",
       "state                    object\n",
       "country                  object\n",
       "shape                    object\n",
       "duration (seconds)      float64\n",
       "duration (hours/min)     object\n",
       "comments                 object\n",
       "date posted              object\n",
       "dtype: object"
      ]
     },
     "execution_count": 10,
     "metadata": {},
     "output_type": "execute_result"
    }
   ],
   "source": [
    "# Using astype() to convert a column's data into floats\n",
    "usa_ufo_df.loc[:, \"duration (seconds)\"] = usa_ufo_df[\"duration (seconds)\"].astype(\"float\")\n",
    "usa_ufo_df.dtypes"
   ]
  },
  {
   "cell_type": "code",
   "execution_count": 11,
   "metadata": {},
   "outputs": [
    {
     "data": {
      "text/plain": [
       "351281285.38"
      ]
     },
     "execution_count": 11,
     "metadata": {},
     "output_type": "execute_result"
    }
   ],
   "source": [
    "# Now it is possible to find the sum of seconds\n",
    "usa_ufo_df[\"duration (seconds)\"].sum()"
   ]
  },
  {
   "cell_type": "code",
   "execution_count": null,
   "metadata": {},
   "outputs": [],
   "source": []
  }
 ],
 "metadata": {
  "kernelspec": {
   "display_name": "Python 3.7.6 64-bit ('base': conda)",
   "language": "python",
   "name": "python_defaultSpec_1599074655616"
  },
  "language_info": {
   "codemirror_mode": {
    "name": "ipython",
    "version": 3
   },
   "file_extension": ".py",
   "mimetype": "text/x-python",
   "name": "python",
   "nbconvert_exporter": "python",
   "pygments_lexer": "ipython3",
   "version": "3.7.6-final"
  }
 },
 "nbformat": 4,
 "nbformat_minor": 2
}
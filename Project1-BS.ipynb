{
 "cells": [
  {
   "cell_type": "code",
   "execution_count": 73,
   "metadata": {
    "collapsed": true
   },
   "outputs": [],
   "source": [
    "# Import the Pandas library\n",
    "import pandas as pd\n",
    "import numpy as np\n",
    "import glob\n",
    "import matplotlib.pyplot as plt"
   ]
  },
  {
   "cell_type": "code",
   "execution_count": 74,
   "metadata": {},
   "outputs": [
    {
     "output_type": "execute_result",
     "data": {
      "text/plain": "   BEGIN_YEARMONTH  BEGIN_DAY  BEGIN_TIME  END_YEARMONTH  END_DAY  END_TIME  \\\n0           195004         28        1445         195004       28      1445   \n1           195004         29        1530         195004       29      1530   \n2           195007          5        1800         195007        5      1800   \n3           195007          5        1830         195007        5      1830   \n4           195007         24        1440         195007       24      1440   \n\n   EPISODE_ID  EVENT_ID         STATE  STATE_FIPS  ...  END_RANGE END_AZIMUTH  \\\n0         NaN  10096222      OKLAHOMA        40.0  ...        0.0         NaN   \n1         NaN  10120412         TEXAS        48.0  ...        0.0         NaN   \n2         NaN  10104927  PENNSYLVANIA        42.0  ...        0.0         NaN   \n3         NaN  10104928  PENNSYLVANIA        42.0  ...        0.0         NaN   \n4         NaN  10104929  PENNSYLVANIA        42.0  ...        0.0         NaN   \n\n  END_LOCATION BEGIN_LAT  BEGIN_LON END_LAT END_LON EPISODE_NARRATIVE  \\\n0          NaN     35.12     -99.20   35.17  -99.20               NaN   \n1          NaN     31.90     -98.60   31.73  -98.60               NaN   \n2          NaN     40.58     -75.70   40.65  -75.47               NaN   \n3          NaN     40.60     -76.75     NaN     NaN               NaN   \n4          NaN     41.63     -79.68     NaN     NaN               NaN   \n\n  EVENT_NARRATIVE DATA_SOURCE  \n0             NaN         PUB  \n1             NaN         PUB  \n2             NaN         PUB  \n3             NaN         PUB  \n4             NaN         PUB  \n\n[5 rows x 51 columns]",
      "text/html": "<div>\n<style scoped>\n    .dataframe tbody tr th:only-of-type {\n        vertical-align: middle;\n    }\n\n    .dataframe tbody tr th {\n        vertical-align: top;\n    }\n\n    .dataframe thead th {\n        text-align: right;\n    }\n</style>\n<table border=\"1\" class=\"dataframe\">\n  <thead>\n    <tr style=\"text-align: right;\">\n      <th></th>\n      <th>BEGIN_YEARMONTH</th>\n      <th>BEGIN_DAY</th>\n      <th>BEGIN_TIME</th>\n      <th>END_YEARMONTH</th>\n      <th>END_DAY</th>\n      <th>END_TIME</th>\n      <th>EPISODE_ID</th>\n      <th>EVENT_ID</th>\n      <th>STATE</th>\n      <th>STATE_FIPS</th>\n      <th>...</th>\n      <th>END_RANGE</th>\n      <th>END_AZIMUTH</th>\n      <th>END_LOCATION</th>\n      <th>BEGIN_LAT</th>\n      <th>BEGIN_LON</th>\n      <th>END_LAT</th>\n      <th>END_LON</th>\n      <th>EPISODE_NARRATIVE</th>\n      <th>EVENT_NARRATIVE</th>\n      <th>DATA_SOURCE</th>\n    </tr>\n  </thead>\n  <tbody>\n    <tr>\n      <th>0</th>\n      <td>195004</td>\n      <td>28</td>\n      <td>1445</td>\n      <td>195004</td>\n      <td>28</td>\n      <td>1445</td>\n      <td>NaN</td>\n      <td>10096222</td>\n      <td>OKLAHOMA</td>\n      <td>40.0</td>\n      <td>...</td>\n      <td>0.0</td>\n      <td>NaN</td>\n      <td>NaN</td>\n      <td>35.12</td>\n      <td>-99.20</td>\n      <td>35.17</td>\n      <td>-99.20</td>\n      <td>NaN</td>\n      <td>NaN</td>\n      <td>PUB</td>\n    </tr>\n    <tr>\n      <th>1</th>\n      <td>195004</td>\n      <td>29</td>\n      <td>1530</td>\n      <td>195004</td>\n      <td>29</td>\n      <td>1530</td>\n      <td>NaN</td>\n      <td>10120412</td>\n      <td>TEXAS</td>\n      <td>48.0</td>\n      <td>...</td>\n      <td>0.0</td>\n      <td>NaN</td>\n      <td>NaN</td>\n      <td>31.90</td>\n      <td>-98.60</td>\n      <td>31.73</td>\n      <td>-98.60</td>\n      <td>NaN</td>\n      <td>NaN</td>\n      <td>PUB</td>\n    </tr>\n    <tr>\n      <th>2</th>\n      <td>195007</td>\n      <td>5</td>\n      <td>1800</td>\n      <td>195007</td>\n      <td>5</td>\n      <td>1800</td>\n      <td>NaN</td>\n      <td>10104927</td>\n      <td>PENNSYLVANIA</td>\n      <td>42.0</td>\n      <td>...</td>\n      <td>0.0</td>\n      <td>NaN</td>\n      <td>NaN</td>\n      <td>40.58</td>\n      <td>-75.70</td>\n      <td>40.65</td>\n      <td>-75.47</td>\n      <td>NaN</td>\n      <td>NaN</td>\n      <td>PUB</td>\n    </tr>\n    <tr>\n      <th>3</th>\n      <td>195007</td>\n      <td>5</td>\n      <td>1830</td>\n      <td>195007</td>\n      <td>5</td>\n      <td>1830</td>\n      <td>NaN</td>\n      <td>10104928</td>\n      <td>PENNSYLVANIA</td>\n      <td>42.0</td>\n      <td>...</td>\n      <td>0.0</td>\n      <td>NaN</td>\n      <td>NaN</td>\n      <td>40.60</td>\n      <td>-76.75</td>\n      <td>NaN</td>\n      <td>NaN</td>\n      <td>NaN</td>\n      <td>NaN</td>\n      <td>PUB</td>\n    </tr>\n    <tr>\n      <th>4</th>\n      <td>195007</td>\n      <td>24</td>\n      <td>1440</td>\n      <td>195007</td>\n      <td>24</td>\n      <td>1440</td>\n      <td>NaN</td>\n      <td>10104929</td>\n      <td>PENNSYLVANIA</td>\n      <td>42.0</td>\n      <td>...</td>\n      <td>0.0</td>\n      <td>NaN</td>\n      <td>NaN</td>\n      <td>41.63</td>\n      <td>-79.68</td>\n      <td>NaN</td>\n      <td>NaN</td>\n      <td>NaN</td>\n      <td>NaN</td>\n      <td>PUB</td>\n    </tr>\n  </tbody>\n</table>\n<p>5 rows × 51 columns</p>\n</div>"
     },
     "metadata": {},
     "execution_count": 74
    }
   ],
   "source": [
    "#Import all data into one dataframe\n",
    "path = r'C:\\Users\\honko\\Desktop\\Data Analysis\\2020.09.15 Project 1\\project1\\Data' # use your path\n",
    "all_files = glob.glob(path + \"/*.csv\")\n",
    "\n",
    "li = []\n",
    "\n",
    "for filename in all_files:\n",
    "    df = pd.read_csv(filename, index_col=None, header=0)\n",
    "    li.append(df)\n",
    "\n",
    "frame = pd.concat(li, axis=0, ignore_index=True)\n",
    "frame.head()"
   ]
  },
  {
   "cell_type": "code",
   "execution_count": 75,
   "metadata": {},
   "outputs": [],
   "source": [
    "#DROP UNECESSARY COLUMNS\n",
    "drop_df = frame.drop(columns =['BEGIN_YEARMONTH', 'BEGIN_DAY', 'BEGIN_TIME', 'END_YEARMONTH', 'END_DAY','END_TIME','EPISODE_ID','STATE_FIPS','CZ_TYPE','CZ_FIPS','CZ_NAME','WFO','BEGIN_DATE_TIME','CZ_TIMEZONE','END_DATE_TIME','SOURCE','MAGNITUDE_TYPE','FLOOD_CAUSE','CATEGORY','TOR_F_SCALE','TOR_LENGTH','TOR_WIDTH','TOR_OTHER_WFO','TOR_OTHER_CZ_STATE','TOR_OTHER_CZ_FIPS','TOR_OTHER_CZ_NAME','BEGIN_RANGE','BEGIN_AZIMUTH','BEGIN_LOCATION','END_RANGE','END_AZIMUTH','END_LOCATION','BEGIN_LAT','BEGIN_LON','END_LAT','END_LON','EPISODE_NARRATIVE','EVENT_NARRATIVE'])"
   ]
  },
  {
   "cell_type": "code",
   "execution_count": 76,
   "metadata": {
    "tags": []
   },
   "outputs": [],
   "source": [
    "# Check to see if there are any rows with missing data\n",
    "drop_df['DAMAGE_CROPS'] = drop_df['DAMAGE_CROPS'].fillna(0)\n",
    "drop_df['DAMAGE_PROPERTY'] = drop_df['DAMAGE_PROPERTY'].fillna(0)"
   ]
  },
  {
   "cell_type": "code",
   "execution_count": 77,
   "metadata": {
    "tags": []
   },
   "outputs": [
    {
     "output_type": "stream",
     "name": "stdout",
     "text": "<class 'pandas.core.frame.DataFrame'>\nRangeIndex: 1602199 entries, 0 to 1602198\nData columns (total 13 columns):\n #   Column             Non-Null Count    Dtype  \n---  ------             --------------    -----  \n 0   EVENT_ID           1602199 non-null  int64  \n 1   STATE              1602198 non-null  object \n 2   YEAR               1602199 non-null  int64  \n 3   MONTH_NAME         1602199 non-null  object \n 4   EVENT_TYPE         1602199 non-null  object \n 5   INJURIES_DIRECT    1602199 non-null  int64  \n 6   INJURIES_INDIRECT  1602199 non-null  int64  \n 7   DEATHS_DIRECT      1602199 non-null  int64  \n 8   DEATHS_INDIRECT    1602199 non-null  int64  \n 9   DAMAGE_PROPERTY    1602199 non-null  object \n 10  DAMAGE_CROPS       1602199 non-null  object \n 11  MAGNITUDE          935254 non-null   float64\n 12  DATA_SOURCE        1602196 non-null  object \ndtypes: float64(1), int64(6), object(6)\nmemory usage: 158.9+ MB\n"
    }
   ],
   "source": [
    "drop_df.info()"
   ]
  },
  {
   "cell_type": "code",
   "execution_count": 78,
   "metadata": {
    "tags": []
   },
   "outputs": [],
   "source": [
    "#Take the K M B identifiers off 'DAMAGE_PROPERTY'\n",
    "drop_df[\"property_money_identifier\"] = drop_df.DAMAGE_PROPERTY.str.extract(r'[\\d\\.]+([KkMBHhT]+)', expand=False)\n",
    "drop_df['DAMAGE_PROPERTY'] = drop_df['DAMAGE_PROPERTY'].str.replace(r'[KkMBHhT?]+$','', regex=True)\n",
    "\n",
    "#Take the K M B identifiers off 'DAMAGE_CROPS'\n",
    "drop_df['crops_money_identifier'] = drop_df.DAMAGE_CROPS.str.extract(r'[\\d\\.]+([KkMBHhT]+)', expand=False)\n",
    "drop_df['DAMAGE_CROPS'] = drop_df['DAMAGE_CROPS'].str.replace(r'[KkMBHh?T]+$','', regex=True)"
   ]
  },
  {
   "cell_type": "code",
   "execution_count": 79,
   "metadata": {},
   "outputs": [],
   "source": [
    "#Replace K M and B with values in 'property_money_identifier' with the equal values \n",
    "drop_df['property_money_identifier'] = drop_df['property_money_identifier'].str.replace(r'[Kk]+$','1000', regex=True)\n",
    "drop_df['property_money_identifier'] = drop_df['property_money_identifier'].str.replace(r'[M]+$','1000000', regex=True)\n",
    "drop_df['property_money_identifier'] = drop_df['property_money_identifier'].str.replace(r'[B]+$','1000000000', regex=True)\n",
    "drop_df['property_money_identifier'] = drop_df['property_money_identifier'].str.replace(r'[T]+$','1000000000000', regex=True)\n",
    "drop_df['property_money_identifier'] = drop_df['property_money_identifier'].str.replace(r'[hH?]+$','1', regex=True)\n",
    "\n",
    "#Replace any blanks with 1 in 'property_money_identifier'\n",
    "drop_df['property_money_identifier'] = drop_df['property_money_identifier'].fillna(1)\n",
    "\n",
    "#Replace K M and B with values in 'crops_money_identifier' with the equal values \n",
    "drop_df['crops_money_identifier'] = drop_df['crops_money_identifier'].str.replace(r'[Kk]+$','1000', regex=True)\n",
    "drop_df['crops_money_identifier'] = drop_df['crops_money_identifier'].str.replace(r'[M]+$','1000000', regex=True)\n",
    "drop_df['crops_money_identifier'] = drop_df['crops_money_identifier'].str.replace(r'[B]+$','1000000000', regex=True)\n",
    "drop_df['crops_money_identifier'] = drop_df['crops_money_identifier'].str.replace(r'[T]+$','1000000000000', regex=True)\n",
    "drop_df['crops_money_identifier'] = drop_df['crops_money_identifier'].str.replace(r'[hH?]+$','1', regex=True)\n",
    "\n",
    "#Replace any blanks with 1 in 'crops_money_identifier'\n",
    "drop_df['crops_money_identifier'] = drop_df['crops_money_identifier'].fillna(1)"
   ]
  },
  {
   "cell_type": "code",
   "metadata": {},
   "source": [
    "# Replace any '' with a zero in 'DAMAGE_CROPS' & 'DAMAGE_PROPERTY'\n",
    "drop_df['DAMAGE_CROPS'] = drop_df['DAMAGE_CROPS'].fillna(0)\n",
    "drop_df['DAMAGE_PROPERTY'] = drop_df['DAMAGE_PROPERTY'].fillna(0)"
   ],
   "execution_count": 80,
   "outputs": []
  },
  {
   "cell_type": "code",
   "execution_count": 81,
   "metadata": {},
   "outputs": [],
   "source": [
    "# Convert 'DAMAGE_PROPERTY' & 'DAMAGE_CROPS' to numeric\n",
    "drop_df['DAMAGE_PROPERTY'] = pd.to_numeric(drop_df['DAMAGE_PROPERTY'])\n",
    "drop_df['DAMAGE_CROPS'] = pd.to_numeric(drop_df['DAMAGE_CROPS'])\n",
    "\n",
    "# Convert 'crops_money_identifier' & 'property_money_identifier' to numeric\n",
    "drop_df['crops_money_identifier'] = pd.to_numeric(drop_df['crops_money_identifier'])\n",
    "drop_df['property_money_identifier'] = pd.to_numeric(drop_df['property_money_identifier'])"
   ]
  },
  {
   "cell_type": "code",
   "execution_count": 82,
   "metadata": {},
   "outputs": [],
   "source": [
    "# Multiply 'DAMAGE_PROPERTY' by 'property_money_identifier' & multiply 'DAMAGE_CROPS' by 'crops_money_identifier'\n",
    "drop_df['DAMAGE_PROPERTY'] = drop_df['DAMAGE_PROPERTY'] * drop_df['property_money_identifier']\n",
    "drop_df['DAMAGE_CROPS'] = drop_df['DAMAGE_CROPS'] * drop_df['crops_money_identifier']"
   ]
  },
  {
   "cell_type": "code",
   "metadata": {},
   "source": [
    "#Drop rows that have no monetary value for 'DAMAGE_PROPERTY' or 'DAMAGE_CROPS'\n",
    "drop_df = drop_df.loc[(drop_df['DAMAGE_PROPERTY'] !=0) | (drop_df['DAMAGE_CROPS'] !=0)]\n",
    "drop_df.head()"
   ],
   "execution_count": 83,
   "outputs": [
    {
     "output_type": "execute_result",
     "data": {
      "text/plain": "   EVENT_ID         STATE  YEAR MONTH_NAME EVENT_TYPE  INJURIES_DIRECT  \\\n0  10096222      OKLAHOMA  1950      April    Tornado                0   \n1  10120412         TEXAS  1950      April    Tornado                0   \n2  10104927  PENNSYLVANIA  1950       July    Tornado                2   \n3  10104928  PENNSYLVANIA  1950       July    Tornado                0   \n4  10104929  PENNSYLVANIA  1950       July    Tornado                0   \n\n   INJURIES_INDIRECT  DEATHS_DIRECT  DEATHS_INDIRECT  DAMAGE_PROPERTY  \\\n0                  0              0                0         250000.0   \n1                  0              0                0          25000.0   \n2                  0              0                0          25000.0   \n3                  0              0                0           2500.0   \n4                  0              0                0           2500.0   \n\n   DAMAGE_CROPS  MAGNITUDE DATA_SOURCE  property_money_identifier  \\\n0           0.0        0.0         PUB                       1000   \n1           0.0        0.0         PUB                       1000   \n2           0.0        0.0         PUB                       1000   \n3           0.0        0.0         PUB                       1000   \n4           0.0        0.0         PUB                       1000   \n\n   crops_money_identifier  \n0                       1  \n1                       1  \n2                       1  \n3                       1  \n4                       1  ",
      "text/html": "<div>\n<style scoped>\n    .dataframe tbody tr th:only-of-type {\n        vertical-align: middle;\n    }\n\n    .dataframe tbody tr th {\n        vertical-align: top;\n    }\n\n    .dataframe thead th {\n        text-align: right;\n    }\n</style>\n<table border=\"1\" class=\"dataframe\">\n  <thead>\n    <tr style=\"text-align: right;\">\n      <th></th>\n      <th>EVENT_ID</th>\n      <th>STATE</th>\n      <th>YEAR</th>\n      <th>MONTH_NAME</th>\n      <th>EVENT_TYPE</th>\n      <th>INJURIES_DIRECT</th>\n      <th>INJURIES_INDIRECT</th>\n      <th>DEATHS_DIRECT</th>\n      <th>DEATHS_INDIRECT</th>\n      <th>DAMAGE_PROPERTY</th>\n      <th>DAMAGE_CROPS</th>\n      <th>MAGNITUDE</th>\n      <th>DATA_SOURCE</th>\n      <th>property_money_identifier</th>\n      <th>crops_money_identifier</th>\n    </tr>\n  </thead>\n  <tbody>\n    <tr>\n      <th>0</th>\n      <td>10096222</td>\n      <td>OKLAHOMA</td>\n      <td>1950</td>\n      <td>April</td>\n      <td>Tornado</td>\n      <td>0</td>\n      <td>0</td>\n      <td>0</td>\n      <td>0</td>\n      <td>250000.0</td>\n      <td>0.0</td>\n      <td>0.0</td>\n      <td>PUB</td>\n      <td>1000</td>\n      <td>1</td>\n    </tr>\n    <tr>\n      <th>1</th>\n      <td>10120412</td>\n      <td>TEXAS</td>\n      <td>1950</td>\n      <td>April</td>\n      <td>Tornado</td>\n      <td>0</td>\n      <td>0</td>\n      <td>0</td>\n      <td>0</td>\n      <td>25000.0</td>\n      <td>0.0</td>\n      <td>0.0</td>\n      <td>PUB</td>\n      <td>1000</td>\n      <td>1</td>\n    </tr>\n    <tr>\n      <th>2</th>\n      <td>10104927</td>\n      <td>PENNSYLVANIA</td>\n      <td>1950</td>\n      <td>July</td>\n      <td>Tornado</td>\n      <td>2</td>\n      <td>0</td>\n      <td>0</td>\n      <td>0</td>\n      <td>25000.0</td>\n      <td>0.0</td>\n      <td>0.0</td>\n      <td>PUB</td>\n      <td>1000</td>\n      <td>1</td>\n    </tr>\n    <tr>\n      <th>3</th>\n      <td>10104928</td>\n      <td>PENNSYLVANIA</td>\n      <td>1950</td>\n      <td>July</td>\n      <td>Tornado</td>\n      <td>0</td>\n      <td>0</td>\n      <td>0</td>\n      <td>0</td>\n      <td>2500.0</td>\n      <td>0.0</td>\n      <td>0.0</td>\n      <td>PUB</td>\n      <td>1000</td>\n      <td>1</td>\n    </tr>\n    <tr>\n      <th>4</th>\n      <td>10104929</td>\n      <td>PENNSYLVANIA</td>\n      <td>1950</td>\n      <td>July</td>\n      <td>Tornado</td>\n      <td>0</td>\n      <td>0</td>\n      <td>0</td>\n      <td>0</td>\n      <td>2500.0</td>\n      <td>0.0</td>\n      <td>0.0</td>\n      <td>PUB</td>\n      <td>1000</td>\n      <td>1</td>\n    </tr>\n  </tbody>\n</table>\n</div>"
     },
     "metadata": {},
     "execution_count": 83
    }
   ]
  },
  {
   "cell_type": "code",
   "metadata": {},
   "source": [
    "#Write drop_df to a CSV file\n",
    "drop_df.to_csv(\"clean_df.csv\")"
   ],
   "execution_count": 84,
   "outputs": []
  },
  {
   "cell_type": "code",
   "execution_count": 85,
   "metadata": {},
   "outputs": [],
   "source": [
    "no_thunderstom_X = drop_df.replace({'THUNDERSTORM WINDS LIGHTNING':\"Thunderstorm\",'THUNDERSTORM WINDS/FLOODING':\"Thunderstorm\",'THUNDERSTORM WINDS/ FLOOD':\"Thunderstorm\",'Thunderstorm Wind':\"Thunderstorm\",'Marine Thunderstorm Wind':\"Thunderstorm\",'Lightning':\"Thunderstorm\",'Marine Hail': \"Thunderstorm\",'THUNDERSTORM WIND/ TREE ':\"Thunderstorm\"})"
   ]
  },
  {
   "cell_type": "code",
   "execution_count": 86,
   "metadata": {},
   "outputs": [],
   "source": [
    "array = ['Tornado','Thunderstorm','Hail']\n",
    "ttwh_df = no_thunderstom_X.loc[no_thunderstom_X['EVENT_TYPE'].isin(array)]\n",
    "ninety_six_df = no_thunderstom_X.loc[no_thunderstom_X['EVENT_TYPE'].isin(array) == False]"
   ]
  },
  {
   "cell_type": "code",
   "execution_count": 87,
   "metadata": {},
   "outputs": [
    {
     "output_type": "execute_result",
     "data": {
      "text/plain": "        EVENT_ID  INJURIES_DIRECT  INJURIES_INDIRECT  DEATHS_DIRECT  \\\nYEAR                                                                  \n1950  1960689441              642                  0             67   \n1951  2312729757              485                  0             33   \n1952  2272639726             1885                  0            231   \n1953  4063385263             4708                  0            498   \n1954  4846357874              681                  0             36   \n\n      DEATHS_INDIRECT  DAMAGE_PROPERTY  DAMAGE_CROPS  MAGNITUDE  \\\nYEAR                                                              \n1950                0       34481650.0           0.0        0.0   \n1951                0       65505990.0           0.0        0.0   \n1952                0       94302240.0           0.0        0.0   \n1953                0      596104700.0           0.0        0.0   \n1954                0       85805320.0           0.0        0.0   \n\n      property_money_identifier  crops_money_identifier  \nYEAR                                                     \n1950                    7188000                     195  \n1951                   13217000                     230  \n1952                   22204000                     226  \n1953                   51353000                     404  \n1954                   16466000                     482  ",
      "text/html": "<div>\n<style scoped>\n    .dataframe tbody tr th:only-of-type {\n        vertical-align: middle;\n    }\n\n    .dataframe tbody tr th {\n        vertical-align: top;\n    }\n\n    .dataframe thead th {\n        text-align: right;\n    }\n</style>\n<table border=\"1\" class=\"dataframe\">\n  <thead>\n    <tr style=\"text-align: right;\">\n      <th></th>\n      <th>EVENT_ID</th>\n      <th>INJURIES_DIRECT</th>\n      <th>INJURIES_INDIRECT</th>\n      <th>DEATHS_DIRECT</th>\n      <th>DEATHS_INDIRECT</th>\n      <th>DAMAGE_PROPERTY</th>\n      <th>DAMAGE_CROPS</th>\n      <th>MAGNITUDE</th>\n      <th>property_money_identifier</th>\n      <th>crops_money_identifier</th>\n    </tr>\n    <tr>\n      <th>YEAR</th>\n      <th></th>\n      <th></th>\n      <th></th>\n      <th></th>\n      <th></th>\n      <th></th>\n      <th></th>\n      <th></th>\n      <th></th>\n      <th></th>\n    </tr>\n  </thead>\n  <tbody>\n    <tr>\n      <th>1950</th>\n      <td>1960689441</td>\n      <td>642</td>\n      <td>0</td>\n      <td>67</td>\n      <td>0</td>\n      <td>34481650.0</td>\n      <td>0.0</td>\n      <td>0.0</td>\n      <td>7188000</td>\n      <td>195</td>\n    </tr>\n    <tr>\n      <th>1951</th>\n      <td>2312729757</td>\n      <td>485</td>\n      <td>0</td>\n      <td>33</td>\n      <td>0</td>\n      <td>65505990.0</td>\n      <td>0.0</td>\n      <td>0.0</td>\n      <td>13217000</td>\n      <td>230</td>\n    </tr>\n    <tr>\n      <th>1952</th>\n      <td>2272639726</td>\n      <td>1885</td>\n      <td>0</td>\n      <td>231</td>\n      <td>0</td>\n      <td>94302240.0</td>\n      <td>0.0</td>\n      <td>0.0</td>\n      <td>22204000</td>\n      <td>226</td>\n    </tr>\n    <tr>\n      <th>1953</th>\n      <td>4063385263</td>\n      <td>4708</td>\n      <td>0</td>\n      <td>498</td>\n      <td>0</td>\n      <td>596104700.0</td>\n      <td>0.0</td>\n      <td>0.0</td>\n      <td>51353000</td>\n      <td>404</td>\n    </tr>\n    <tr>\n      <th>1954</th>\n      <td>4846357874</td>\n      <td>681</td>\n      <td>0</td>\n      <td>36</td>\n      <td>0</td>\n      <td>85805320.0</td>\n      <td>0.0</td>\n      <td>0.0</td>\n      <td>16466000</td>\n      <td>482</td>\n    </tr>\n  </tbody>\n</table>\n</div>"
     },
     "metadata": {},
     "execution_count": 87
    }
   ],
   "source": [
    "yearly_df = ttwh_df.groupby(by=['YEAR']).sum()\n",
    "yearly_df.head()"
   ]
  },
  {
   "cell_type": "code",
   "execution_count": 116,
   "metadata": {},
   "outputs": [
    {
     "output_type": "error",
     "ename": "KeyError",
     "evalue": "'YEAR'",
     "traceback": [
      "\u001b[1;31m---------------------------------------------------------------------------\u001b[0m",
      "\u001b[1;31mKeyError\u001b[0m                                  Traceback (most recent call last)",
      "\u001b[1;32m~\\anaconda3\\lib\\site-packages\\pandas\\core\\indexes\\base.py\u001b[0m in \u001b[0;36mget_loc\u001b[1;34m(self, key, method, tolerance)\u001b[0m\n\u001b[0;32m   2645\u001b[0m             \u001b[1;32mtry\u001b[0m\u001b[1;33m:\u001b[0m\u001b[1;33m\u001b[0m\u001b[1;33m\u001b[0m\u001b[0m\n\u001b[1;32m-> 2646\u001b[1;33m                 \u001b[1;32mreturn\u001b[0m \u001b[0mself\u001b[0m\u001b[1;33m.\u001b[0m\u001b[0m_engine\u001b[0m\u001b[1;33m.\u001b[0m\u001b[0mget_loc\u001b[0m\u001b[1;33m(\u001b[0m\u001b[0mkey\u001b[0m\u001b[1;33m)\u001b[0m\u001b[1;33m\u001b[0m\u001b[1;33m\u001b[0m\u001b[0m\n\u001b[0m\u001b[0;32m   2647\u001b[0m             \u001b[1;32mexcept\u001b[0m \u001b[0mKeyError\u001b[0m\u001b[1;33m:\u001b[0m\u001b[1;33m\u001b[0m\u001b[1;33m\u001b[0m\u001b[0m\n",
      "\u001b[1;32mpandas\\_libs\\index.pyx\u001b[0m in \u001b[0;36mpandas._libs.index.IndexEngine.get_loc\u001b[1;34m()\u001b[0m\n",
      "\u001b[1;32mpandas\\_libs\\index.pyx\u001b[0m in \u001b[0;36mpandas._libs.index.IndexEngine.get_loc\u001b[1;34m()\u001b[0m\n",
      "\u001b[1;32mpandas\\_libs\\hashtable_class_helper.pxi\u001b[0m in \u001b[0;36mpandas._libs.hashtable.PyObjectHashTable.get_item\u001b[1;34m()\u001b[0m\n",
      "\u001b[1;32mpandas\\_libs\\hashtable_class_helper.pxi\u001b[0m in \u001b[0;36mpandas._libs.hashtable.PyObjectHashTable.get_item\u001b[1;34m()\u001b[0m\n",
      "\u001b[1;31mKeyError\u001b[0m: 'YEAR'",
      "\nDuring handling of the above exception, another exception occurred:\n",
      "\u001b[1;31mKeyError\u001b[0m                                  Traceback (most recent call last)",
      "\u001b[1;32m<ipython-input-116-d61c85d6e35e>\u001b[0m in \u001b[0;36m<module>\u001b[1;34m\u001b[0m\n\u001b[1;32m----> 1\u001b[1;33m \u001b[0mplt\u001b[0m\u001b[1;33m.\u001b[0m\u001b[0mplot\u001b[0m\u001b[1;33m(\u001b[0m\u001b[0myearly_df\u001b[0m\u001b[1;33m[\u001b[0m\u001b[1;34m'YEAR'\u001b[0m\u001b[1;33m]\u001b[0m\u001b[1;33m,\u001b[0m \u001b[0myearly_df\u001b[0m\u001b[1;33m[\u001b[0m\u001b[1;34m'DAMAGE_PROPERTY'\u001b[0m\u001b[1;33m]\u001b[0m \u001b[1;33m,\u001b[0m\u001b[0mcolor\u001b[0m\u001b[1;33m=\u001b[0m\u001b[1;34m\"red\"\u001b[0m\u001b[1;33m,\u001b[0m \u001b[0mlabel\u001b[0m\u001b[1;33m=\u001b[0m\u001b[1;34m\"Property Damage vs Year\"\u001b[0m \u001b[1;33m)\u001b[0m\u001b[1;33m\u001b[0m\u001b[1;33m\u001b[0m\u001b[0m\n\u001b[0m\u001b[0;32m      2\u001b[0m \u001b[0mplt\u001b[0m\u001b[1;33m.\u001b[0m\u001b[0mlegend\u001b[0m\u001b[1;33m(\u001b[0m\u001b[1;33m)\u001b[0m\u001b[1;33m\u001b[0m\u001b[1;33m\u001b[0m\u001b[0m\n\u001b[0;32m      3\u001b[0m \u001b[0mplt\u001b[0m\u001b[1;33m.\u001b[0m\u001b[0mshow\u001b[0m\u001b[1;33m(\u001b[0m\u001b[1;33m)\u001b[0m\u001b[1;33m\u001b[0m\u001b[1;33m\u001b[0m\u001b[0m\n",
      "\u001b[1;32m~\\anaconda3\\lib\\site-packages\\pandas\\core\\frame.py\u001b[0m in \u001b[0;36m__getitem__\u001b[1;34m(self, key)\u001b[0m\n\u001b[0;32m   2798\u001b[0m             \u001b[1;32mif\u001b[0m \u001b[0mself\u001b[0m\u001b[1;33m.\u001b[0m\u001b[0mcolumns\u001b[0m\u001b[1;33m.\u001b[0m\u001b[0mnlevels\u001b[0m \u001b[1;33m>\u001b[0m \u001b[1;36m1\u001b[0m\u001b[1;33m:\u001b[0m\u001b[1;33m\u001b[0m\u001b[1;33m\u001b[0m\u001b[0m\n\u001b[0;32m   2799\u001b[0m                 \u001b[1;32mreturn\u001b[0m \u001b[0mself\u001b[0m\u001b[1;33m.\u001b[0m\u001b[0m_getitem_multilevel\u001b[0m\u001b[1;33m(\u001b[0m\u001b[0mkey\u001b[0m\u001b[1;33m)\u001b[0m\u001b[1;33m\u001b[0m\u001b[1;33m\u001b[0m\u001b[0m\n\u001b[1;32m-> 2800\u001b[1;33m             \u001b[0mindexer\u001b[0m \u001b[1;33m=\u001b[0m \u001b[0mself\u001b[0m\u001b[1;33m.\u001b[0m\u001b[0mcolumns\u001b[0m\u001b[1;33m.\u001b[0m\u001b[0mget_loc\u001b[0m\u001b[1;33m(\u001b[0m\u001b[0mkey\u001b[0m\u001b[1;33m)\u001b[0m\u001b[1;33m\u001b[0m\u001b[1;33m\u001b[0m\u001b[0m\n\u001b[0m\u001b[0;32m   2801\u001b[0m             \u001b[1;32mif\u001b[0m \u001b[0mis_integer\u001b[0m\u001b[1;33m(\u001b[0m\u001b[0mindexer\u001b[0m\u001b[1;33m)\u001b[0m\u001b[1;33m:\u001b[0m\u001b[1;33m\u001b[0m\u001b[1;33m\u001b[0m\u001b[0m\n\u001b[0;32m   2802\u001b[0m                 \u001b[0mindexer\u001b[0m \u001b[1;33m=\u001b[0m \u001b[1;33m[\u001b[0m\u001b[0mindexer\u001b[0m\u001b[1;33m]\u001b[0m\u001b[1;33m\u001b[0m\u001b[1;33m\u001b[0m\u001b[0m\n",
      "\u001b[1;32m~\\anaconda3\\lib\\site-packages\\pandas\\core\\indexes\\base.py\u001b[0m in \u001b[0;36mget_loc\u001b[1;34m(self, key, method, tolerance)\u001b[0m\n\u001b[0;32m   2646\u001b[0m                 \u001b[1;32mreturn\u001b[0m \u001b[0mself\u001b[0m\u001b[1;33m.\u001b[0m\u001b[0m_engine\u001b[0m\u001b[1;33m.\u001b[0m\u001b[0mget_loc\u001b[0m\u001b[1;33m(\u001b[0m\u001b[0mkey\u001b[0m\u001b[1;33m)\u001b[0m\u001b[1;33m\u001b[0m\u001b[1;33m\u001b[0m\u001b[0m\n\u001b[0;32m   2647\u001b[0m             \u001b[1;32mexcept\u001b[0m \u001b[0mKeyError\u001b[0m\u001b[1;33m:\u001b[0m\u001b[1;33m\u001b[0m\u001b[1;33m\u001b[0m\u001b[0m\n\u001b[1;32m-> 2648\u001b[1;33m                 \u001b[1;32mreturn\u001b[0m \u001b[0mself\u001b[0m\u001b[1;33m.\u001b[0m\u001b[0m_engine\u001b[0m\u001b[1;33m.\u001b[0m\u001b[0mget_loc\u001b[0m\u001b[1;33m(\u001b[0m\u001b[0mself\u001b[0m\u001b[1;33m.\u001b[0m\u001b[0m_maybe_cast_indexer\u001b[0m\u001b[1;33m(\u001b[0m\u001b[0mkey\u001b[0m\u001b[1;33m)\u001b[0m\u001b[1;33m)\u001b[0m\u001b[1;33m\u001b[0m\u001b[1;33m\u001b[0m\u001b[0m\n\u001b[0m\u001b[0;32m   2649\u001b[0m         \u001b[0mindexer\u001b[0m \u001b[1;33m=\u001b[0m \u001b[0mself\u001b[0m\u001b[1;33m.\u001b[0m\u001b[0mget_indexer\u001b[0m\u001b[1;33m(\u001b[0m\u001b[1;33m[\u001b[0m\u001b[0mkey\u001b[0m\u001b[1;33m]\u001b[0m\u001b[1;33m,\u001b[0m \u001b[0mmethod\u001b[0m\u001b[1;33m=\u001b[0m\u001b[0mmethod\u001b[0m\u001b[1;33m,\u001b[0m \u001b[0mtolerance\u001b[0m\u001b[1;33m=\u001b[0m\u001b[0mtolerance\u001b[0m\u001b[1;33m)\u001b[0m\u001b[1;33m\u001b[0m\u001b[1;33m\u001b[0m\u001b[0m\n\u001b[0;32m   2650\u001b[0m         \u001b[1;32mif\u001b[0m \u001b[0mindexer\u001b[0m\u001b[1;33m.\u001b[0m\u001b[0mndim\u001b[0m \u001b[1;33m>\u001b[0m \u001b[1;36m1\u001b[0m \u001b[1;32mor\u001b[0m \u001b[0mindexer\u001b[0m\u001b[1;33m.\u001b[0m\u001b[0msize\u001b[0m \u001b[1;33m>\u001b[0m \u001b[1;36m1\u001b[0m\u001b[1;33m:\u001b[0m\u001b[1;33m\u001b[0m\u001b[1;33m\u001b[0m\u001b[0m\n",
      "\u001b[1;32mpandas\\_libs\\index.pyx\u001b[0m in \u001b[0;36mpandas._libs.index.IndexEngine.get_loc\u001b[1;34m()\u001b[0m\n",
      "\u001b[1;32mpandas\\_libs\\index.pyx\u001b[0m in \u001b[0;36mpandas._libs.index.IndexEngine.get_loc\u001b[1;34m()\u001b[0m\n",
      "\u001b[1;32mpandas\\_libs\\hashtable_class_helper.pxi\u001b[0m in \u001b[0;36mpandas._libs.hashtable.PyObjectHashTable.get_item\u001b[1;34m()\u001b[0m\n",
      "\u001b[1;32mpandas\\_libs\\hashtable_class_helper.pxi\u001b[0m in \u001b[0;36mpandas._libs.hashtable.PyObjectHashTable.get_item\u001b[1;34m()\u001b[0m\n",
      "\u001b[1;31mKeyError\u001b[0m: 'YEAR'"
     ]
    }
   ],
   "source": [
    "plt.plot(yearly_df['YEAR'], yearly_df['DAMAGE_PROPERTY'] ,color=\"red\", label=\"Property Damage vs Year\" )\n",
    "plt.legend()\n",
    "plt.show()"
   ]
  },
  {
   "cell_type": "code",
   "execution_count": null,
   "metadata": {},
   "outputs": [],
   "source": []
  }
 ],
 "metadata": {
  "kernelspec": {
   "display_name": "Python 3.7.6 64-bit ('base': conda)",
   "language": "python",
   "name": "python_defaultSpec_1599604437015"
  },
  "language_info": {
   "codemirror_mode": {
    "name": "ipython",
    "version": 3
   },
   "file_extension": ".py",
   "mimetype": "text/x-python",
   "name": "python",
   "nbconvert_exporter": "python",
   "pygments_lexer": "ipython3",
   "version": "3.7.6-final"
  }
 },
 "nbformat": 4,
 "nbformat_minor": 2
}
{
 "cells": [
  {
   "cell_type": "code",
   "execution_count": 1,
   "metadata": {
    "collapsed": true
   },
   "outputs": [],
   "source": [
    "# Import the Pandas library\n",
    "import pandas as pd\n",
    "\n",
    "import glob"
   ]
  },
  {
   "cell_type": "code",
   "execution_count": 2,
   "metadata": {},
   "outputs": [
    {
     "output_type": "execute_result",
     "data": {
      "text/plain": "   BEGIN_YEARMONTH  BEGIN_DAY  BEGIN_TIME  END_YEARMONTH  END_DAY  END_TIME  \\\n0           195004         28        1445         195004       28      1445   \n1           195004         29        1530         195004       29      1530   \n2           195007          5        1800         195007        5      1800   \n3           195007          5        1830         195007        5      1830   \n4           195007         24        1440         195007       24      1440   \n\n   EPISODE_ID  EVENT_ID         STATE  STATE_FIPS  ...  END_RANGE END_AZIMUTH  \\\n0         NaN  10096222      OKLAHOMA        40.0  ...        0.0         NaN   \n1         NaN  10120412         TEXAS        48.0  ...        0.0         NaN   \n2         NaN  10104927  PENNSYLVANIA        42.0  ...        0.0         NaN   \n3         NaN  10104928  PENNSYLVANIA        42.0  ...        0.0         NaN   \n4         NaN  10104929  PENNSYLVANIA        42.0  ...        0.0         NaN   \n\n  END_LOCATION BEGIN_LAT  BEGIN_LON END_LAT END_LON EPISODE_NARRATIVE  \\\n0          NaN     35.12     -99.20   35.17  -99.20               NaN   \n1          NaN     31.90     -98.60   31.73  -98.60               NaN   \n2          NaN     40.58     -75.70   40.65  -75.47               NaN   \n3          NaN     40.60     -76.75     NaN     NaN               NaN   \n4          NaN     41.63     -79.68     NaN     NaN               NaN   \n\n  EVENT_NARRATIVE DATA_SOURCE  \n0             NaN         PUB  \n1             NaN         PUB  \n2             NaN         PUB  \n3             NaN         PUB  \n4             NaN         PUB  \n\n[5 rows x 51 columns]",
      "text/html": "<div>\n<style scoped>\n    .dataframe tbody tr th:only-of-type {\n        vertical-align: middle;\n    }\n\n    .dataframe tbody tr th {\n        vertical-align: top;\n    }\n\n    .dataframe thead th {\n        text-align: right;\n    }\n</style>\n<table border=\"1\" class=\"dataframe\">\n  <thead>\n    <tr style=\"text-align: right;\">\n      <th></th>\n      <th>BEGIN_YEARMONTH</th>\n      <th>BEGIN_DAY</th>\n      <th>BEGIN_TIME</th>\n      <th>END_YEARMONTH</th>\n      <th>END_DAY</th>\n      <th>END_TIME</th>\n      <th>EPISODE_ID</th>\n      <th>EVENT_ID</th>\n      <th>STATE</th>\n      <th>STATE_FIPS</th>\n      <th>...</th>\n      <th>END_RANGE</th>\n      <th>END_AZIMUTH</th>\n      <th>END_LOCATION</th>\n      <th>BEGIN_LAT</th>\n      <th>BEGIN_LON</th>\n      <th>END_LAT</th>\n      <th>END_LON</th>\n      <th>EPISODE_NARRATIVE</th>\n      <th>EVENT_NARRATIVE</th>\n      <th>DATA_SOURCE</th>\n    </tr>\n  </thead>\n  <tbody>\n    <tr>\n      <th>0</th>\n      <td>195004</td>\n      <td>28</td>\n      <td>1445</td>\n      <td>195004</td>\n      <td>28</td>\n      <td>1445</td>\n      <td>NaN</td>\n      <td>10096222</td>\n      <td>OKLAHOMA</td>\n      <td>40.0</td>\n      <td>...</td>\n      <td>0.0</td>\n      <td>NaN</td>\n      <td>NaN</td>\n      <td>35.12</td>\n      <td>-99.20</td>\n      <td>35.17</td>\n      <td>-99.20</td>\n      <td>NaN</td>\n      <td>NaN</td>\n      <td>PUB</td>\n    </tr>\n    <tr>\n      <th>1</th>\n      <td>195004</td>\n      <td>29</td>\n      <td>1530</td>\n      <td>195004</td>\n      <td>29</td>\n      <td>1530</td>\n      <td>NaN</td>\n      <td>10120412</td>\n      <td>TEXAS</td>\n      <td>48.0</td>\n      <td>...</td>\n      <td>0.0</td>\n      <td>NaN</td>\n      <td>NaN</td>\n      <td>31.90</td>\n      <td>-98.60</td>\n      <td>31.73</td>\n      <td>-98.60</td>\n      <td>NaN</td>\n      <td>NaN</td>\n      <td>PUB</td>\n    </tr>\n    <tr>\n      <th>2</th>\n      <td>195007</td>\n      <td>5</td>\n      <td>1800</td>\n      <td>195007</td>\n      <td>5</td>\n      <td>1800</td>\n      <td>NaN</td>\n      <td>10104927</td>\n      <td>PENNSYLVANIA</td>\n      <td>42.0</td>\n      <td>...</td>\n      <td>0.0</td>\n      <td>NaN</td>\n      <td>NaN</td>\n      <td>40.58</td>\n      <td>-75.70</td>\n      <td>40.65</td>\n      <td>-75.47</td>\n      <td>NaN</td>\n      <td>NaN</td>\n      <td>PUB</td>\n    </tr>\n    <tr>\n      <th>3</th>\n      <td>195007</td>\n      <td>5</td>\n      <td>1830</td>\n      <td>195007</td>\n      <td>5</td>\n      <td>1830</td>\n      <td>NaN</td>\n      <td>10104928</td>\n      <td>PENNSYLVANIA</td>\n      <td>42.0</td>\n      <td>...</td>\n      <td>0.0</td>\n      <td>NaN</td>\n      <td>NaN</td>\n      <td>40.60</td>\n      <td>-76.75</td>\n      <td>NaN</td>\n      <td>NaN</td>\n      <td>NaN</td>\n      <td>NaN</td>\n      <td>PUB</td>\n    </tr>\n    <tr>\n      <th>4</th>\n      <td>195007</td>\n      <td>24</td>\n      <td>1440</td>\n      <td>195007</td>\n      <td>24</td>\n      <td>1440</td>\n      <td>NaN</td>\n      <td>10104929</td>\n      <td>PENNSYLVANIA</td>\n      <td>42.0</td>\n      <td>...</td>\n      <td>0.0</td>\n      <td>NaN</td>\n      <td>NaN</td>\n      <td>41.63</td>\n      <td>-79.68</td>\n      <td>NaN</td>\n      <td>NaN</td>\n      <td>NaN</td>\n      <td>NaN</td>\n      <td>PUB</td>\n    </tr>\n  </tbody>\n</table>\n<p>5 rows × 51 columns</p>\n</div>"
     },
     "metadata": {},
     "execution_count": 2
    }
   ],
   "source": [
    "#Import all data into one dataframe\n",
    "path = r'C:\\Users\\honko\\Desktop\\Data Analysis\\2020.09.15 Project 1\\project1\\Data' # use your path\n",
    "all_files = glob.glob(path + \"/*.csv\")\n",
    "\n",
    "li = []\n",
    "\n",
    "for filename in all_files:\n",
    "    df = pd.read_csv(filename, index_col=None, header=0)\n",
    "    li.append(df)\n",
    "\n",
    "frame = pd.concat(li, axis=0, ignore_index=True)\n",
    "frame.head()"
   ]
  },
  {
   "cell_type": "code",
   "execution_count": 3,
   "metadata": {
    "tags": []
   },
   "outputs": [
    {
     "output_type": "execute_result",
     "data": {
      "text/plain": "   BEGIN_YEARMONTH  BEGIN_DAY  BEGIN_TIME  END_YEARMONTH  END_DAY  END_TIME  \\\n0           195004         28        1445         195004       28      1445   \n1           195004         29        1530         195004       29      1530   \n2           195007          5        1800         195007        5      1800   \n3           195007          5        1830         195007        5      1830   \n4           195007         24        1440         195007       24      1440   \n\n   EPISODE_ID  EVENT_ID         STATE  STATE_FIPS  ...  END_RANGE END_AZIMUTH  \\\n0         NaN  10096222      OKLAHOMA        40.0  ...        0.0         NaN   \n1         NaN  10120412         TEXAS        48.0  ...        0.0         NaN   \n2         NaN  10104927  PENNSYLVANIA        42.0  ...        0.0         NaN   \n3         NaN  10104928  PENNSYLVANIA        42.0  ...        0.0         NaN   \n4         NaN  10104929  PENNSYLVANIA        42.0  ...        0.0         NaN   \n\n  END_LOCATION BEGIN_LAT  BEGIN_LON END_LAT END_LON EPISODE_NARRATIVE  \\\n0          NaN     35.12     -99.20   35.17  -99.20               NaN   \n1          NaN     31.90     -98.60   31.73  -98.60               NaN   \n2          NaN     40.58     -75.70   40.65  -75.47               NaN   \n3          NaN     40.60     -76.75     NaN     NaN               NaN   \n4          NaN     41.63     -79.68     NaN     NaN               NaN   \n\n  EVENT_NARRATIVE DATA_SOURCE  \n0             NaN         PUB  \n1             NaN         PUB  \n2             NaN         PUB  \n3             NaN         PUB  \n4             NaN         PUB  \n\n[5 rows x 51 columns]",
      "text/html": "<div>\n<style scoped>\n    .dataframe tbody tr th:only-of-type {\n        vertical-align: middle;\n    }\n\n    .dataframe tbody tr th {\n        vertical-align: top;\n    }\n\n    .dataframe thead th {\n        text-align: right;\n    }\n</style>\n<table border=\"1\" class=\"dataframe\">\n  <thead>\n    <tr style=\"text-align: right;\">\n      <th></th>\n      <th>BEGIN_YEARMONTH</th>\n      <th>BEGIN_DAY</th>\n      <th>BEGIN_TIME</th>\n      <th>END_YEARMONTH</th>\n      <th>END_DAY</th>\n      <th>END_TIME</th>\n      <th>EPISODE_ID</th>\n      <th>EVENT_ID</th>\n      <th>STATE</th>\n      <th>STATE_FIPS</th>\n      <th>...</th>\n      <th>END_RANGE</th>\n      <th>END_AZIMUTH</th>\n      <th>END_LOCATION</th>\n      <th>BEGIN_LAT</th>\n      <th>BEGIN_LON</th>\n      <th>END_LAT</th>\n      <th>END_LON</th>\n      <th>EPISODE_NARRATIVE</th>\n      <th>EVENT_NARRATIVE</th>\n      <th>DATA_SOURCE</th>\n    </tr>\n  </thead>\n  <tbody>\n    <tr>\n      <th>0</th>\n      <td>195004</td>\n      <td>28</td>\n      <td>1445</td>\n      <td>195004</td>\n      <td>28</td>\n      <td>1445</td>\n      <td>NaN</td>\n      <td>10096222</td>\n      <td>OKLAHOMA</td>\n      <td>40.0</td>\n      <td>...</td>\n      <td>0.0</td>\n      <td>NaN</td>\n      <td>NaN</td>\n      <td>35.12</td>\n      <td>-99.20</td>\n      <td>35.17</td>\n      <td>-99.20</td>\n      <td>NaN</td>\n      <td>NaN</td>\n      <td>PUB</td>\n    </tr>\n    <tr>\n      <th>1</th>\n      <td>195004</td>\n      <td>29</td>\n      <td>1530</td>\n      <td>195004</td>\n      <td>29</td>\n      <td>1530</td>\n      <td>NaN</td>\n      <td>10120412</td>\n      <td>TEXAS</td>\n      <td>48.0</td>\n      <td>...</td>\n      <td>0.0</td>\n      <td>NaN</td>\n      <td>NaN</td>\n      <td>31.90</td>\n      <td>-98.60</td>\n      <td>31.73</td>\n      <td>-98.60</td>\n      <td>NaN</td>\n      <td>NaN</td>\n      <td>PUB</td>\n    </tr>\n    <tr>\n      <th>2</th>\n      <td>195007</td>\n      <td>5</td>\n      <td>1800</td>\n      <td>195007</td>\n      <td>5</td>\n      <td>1800</td>\n      <td>NaN</td>\n      <td>10104927</td>\n      <td>PENNSYLVANIA</td>\n      <td>42.0</td>\n      <td>...</td>\n      <td>0.0</td>\n      <td>NaN</td>\n      <td>NaN</td>\n      <td>40.58</td>\n      <td>-75.70</td>\n      <td>40.65</td>\n      <td>-75.47</td>\n      <td>NaN</td>\n      <td>NaN</td>\n      <td>PUB</td>\n    </tr>\n    <tr>\n      <th>3</th>\n      <td>195007</td>\n      <td>5</td>\n      <td>1830</td>\n      <td>195007</td>\n      <td>5</td>\n      <td>1830</td>\n      <td>NaN</td>\n      <td>10104928</td>\n      <td>PENNSYLVANIA</td>\n      <td>42.0</td>\n      <td>...</td>\n      <td>0.0</td>\n      <td>NaN</td>\n      <td>NaN</td>\n      <td>40.60</td>\n      <td>-76.75</td>\n      <td>NaN</td>\n      <td>NaN</td>\n      <td>NaN</td>\n      <td>NaN</td>\n      <td>PUB</td>\n    </tr>\n    <tr>\n      <th>4</th>\n      <td>195007</td>\n      <td>24</td>\n      <td>1440</td>\n      <td>195007</td>\n      <td>24</td>\n      <td>1440</td>\n      <td>NaN</td>\n      <td>10104929</td>\n      <td>PENNSYLVANIA</td>\n      <td>42.0</td>\n      <td>...</td>\n      <td>0.0</td>\n      <td>NaN</td>\n      <td>NaN</td>\n      <td>41.63</td>\n      <td>-79.68</td>\n      <td>NaN</td>\n      <td>NaN</td>\n      <td>NaN</td>\n      <td>NaN</td>\n      <td>PUB</td>\n    </tr>\n  </tbody>\n</table>\n<p>5 rows × 51 columns</p>\n</div>"
     },
     "metadata": {},
     "execution_count": 3
    }
   ],
   "source": [
    "# Check to see if there are any rows with missing data\n",
    "frame['DAMAGE_CROPS'] = frame['DAMAGE_CROPS'].fillna(0)\n",
    "frame['DAMAGE_PROPERTY'] = frame['DAMAGE_PROPERTY'].fillna(0)\n",
    "drop_df = frame.loc[(frame['DAMAGE_PROPERTY'] !=0) | (frame['DAMAGE_CROPS'] !=0)]\n",
    "drop_df.head()"
   ]
  },
  {
   "cell_type": "code",
   "execution_count": 4,
   "metadata": {},
   "outputs": [],
   "source": [
    "#DROP UNECESSARY COLUMNS\n",
    "clean_df = drop_df.drop(columns =['BEGIN_YEARMONTH', 'BEGIN_DAY', 'BEGIN_TIME', 'END_YEARMONTH', 'END_DAY','END_TIME','EPISODE_ID','STATE_FIPS','CZ_TYPE','CZ_FIPS','CZ_NAME','WFO','BEGIN_DATE_TIME','CZ_TIMEZONE','END_DATE_TIME','SOURCE','MAGNITUDE_TYPE','FLOOD_CAUSE','CATEGORY','TOR_F_SCALE','TOR_LENGTH','TOR_WIDTH','TOR_OTHER_WFO','TOR_OTHER_CZ_STATE','TOR_OTHER_CZ_FIPS','TOR_OTHER_CZ_NAME','BEGIN_RANGE','BEGIN_AZIMUTH','BEGIN_LOCATION','END_RANGE','END_AZIMUTH','END_LOCATION','BEGIN_LAT','BEGIN_LON','END_LAT','END_LON','EPISODE_NARRATIVE','EVENT_NARRATIVE'])\n"
   ]
  },
  {
   "cell_type": "code",
   "execution_count": 5,
   "metadata": {},
   "outputs": [],
   "source": [
    "#WRITE CLEAN_DF TO A CSV FILE \n",
    "clean_df.to_csv(\"clean_df.csv\")"
   ]
  },
  {
   "cell_type": "code",
   "execution_count": null,
   "metadata": {},
   "outputs": [],
   "source": []
  }
 ],
 "metadata": {
  "kernelspec": {
   "display_name": "Python 3.7.6 64-bit ('base': conda)",
   "language": "python",
   "name": "python_defaultSpec_1599181526458"
  },
  "language_info": {
   "codemirror_mode": {
    "name": "ipython",
    "version": 3
   },
   "file_extension": ".py",
   "mimetype": "text/x-python",
   "name": "python",
   "nbconvert_exporter": "python",
   "pygments_lexer": "ipython3",
   "version": "3.7.6-final"
  }
 },
 "nbformat": 4,
 "nbformat_minor": 2
}
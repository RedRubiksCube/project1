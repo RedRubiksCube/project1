{
 "metadata": {
  "language_info": {
   "codemirror_mode": {
    "name": "ipython",
    "version": 3
   },
   "file_extension": ".py",
   "mimetype": "text/x-python",
   "name": "python",
   "nbconvert_exporter": "python",
   "pygments_lexer": "ipython3",
   "version": "3.8.3-final"
  },
  "orig_nbformat": 2,
  "kernelspec": {
   "name": "python_defaultSpec_1599776855054",
   "display_name": "Python 3.8.3 64-bit ('base': conda)"
  }
 },
 "nbformat": 4,
 "nbformat_minor": 2,
 "cells": [
  {
   "cell_type": "code",
   "execution_count": 26,
   "metadata": {},
   "outputs": [],
   "source": [
    "import pandas as pd \n"
   ]
  },
  {
   "cell_type": "code",
   "execution_count": 27,
   "metadata": {},
   "outputs": [
    {
     "output_type": "execute_result",
     "data": {
      "text/plain": "   Year   Jan   Feb   Mar   Apr   May   Jun   Jul   Aug   Sep   Oct   Nov  \\\n0  1950  23.5  23.5  23.6  23.6  23.7  23.8  24.1  24.3  24.4  24.6  24.7   \n1  1951  25.4  25.7  25.8  25.8  25.9  25.9  25.9  25.9  26.1  26.2  26.4   \n2  1952  26.5  26.3  26.3  26.4  26.4  26.5  26.7  26.7  26.7  26.7  26.7   \n3  1953  26.6  26.5  26.6  26.6  26.7  26.8  26.8  26.9  26.9  27.0  26.9   \n4  1954  26.9  26.9  26.9  26.8  26.9  26.9  26.9  26.9  26.8  26.8  26.8   \n\n    Dec  Annual  HALF1  HALF2  \n0  25.0    24.1    NaN    NaN  \n1  26.5    26.0    NaN    NaN  \n2  26.7    26.5    NaN    NaN  \n3  26.9    26.7    NaN    NaN  \n4  26.7    26.9    NaN    NaN  ",
      "text/html": "<div>\n<style scoped>\n    .dataframe tbody tr th:only-of-type {\n        vertical-align: middle;\n    }\n\n    .dataframe tbody tr th {\n        vertical-align: top;\n    }\n\n    .dataframe thead th {\n        text-align: right;\n    }\n</style>\n<table border=\"1\" class=\"dataframe\">\n  <thead>\n    <tr style=\"text-align: right;\">\n      <th></th>\n      <th>Year</th>\n      <th>Jan</th>\n      <th>Feb</th>\n      <th>Mar</th>\n      <th>Apr</th>\n      <th>May</th>\n      <th>Jun</th>\n      <th>Jul</th>\n      <th>Aug</th>\n      <th>Sep</th>\n      <th>Oct</th>\n      <th>Nov</th>\n      <th>Dec</th>\n      <th>Annual</th>\n      <th>HALF1</th>\n      <th>HALF2</th>\n    </tr>\n  </thead>\n  <tbody>\n    <tr>\n      <th>0</th>\n      <td>1950</td>\n      <td>23.5</td>\n      <td>23.5</td>\n      <td>23.6</td>\n      <td>23.6</td>\n      <td>23.7</td>\n      <td>23.8</td>\n      <td>24.1</td>\n      <td>24.3</td>\n      <td>24.4</td>\n      <td>24.6</td>\n      <td>24.7</td>\n      <td>25.0</td>\n      <td>24.1</td>\n      <td>NaN</td>\n      <td>NaN</td>\n    </tr>\n    <tr>\n      <th>1</th>\n      <td>1951</td>\n      <td>25.4</td>\n      <td>25.7</td>\n      <td>25.8</td>\n      <td>25.8</td>\n      <td>25.9</td>\n      <td>25.9</td>\n      <td>25.9</td>\n      <td>25.9</td>\n      <td>26.1</td>\n      <td>26.2</td>\n      <td>26.4</td>\n      <td>26.5</td>\n      <td>26.0</td>\n      <td>NaN</td>\n      <td>NaN</td>\n    </tr>\n    <tr>\n      <th>2</th>\n      <td>1952</td>\n      <td>26.5</td>\n      <td>26.3</td>\n      <td>26.3</td>\n      <td>26.4</td>\n      <td>26.4</td>\n      <td>26.5</td>\n      <td>26.7</td>\n      <td>26.7</td>\n      <td>26.7</td>\n      <td>26.7</td>\n      <td>26.7</td>\n      <td>26.7</td>\n      <td>26.5</td>\n      <td>NaN</td>\n      <td>NaN</td>\n    </tr>\n    <tr>\n      <th>3</th>\n      <td>1953</td>\n      <td>26.6</td>\n      <td>26.5</td>\n      <td>26.6</td>\n      <td>26.6</td>\n      <td>26.7</td>\n      <td>26.8</td>\n      <td>26.8</td>\n      <td>26.9</td>\n      <td>26.9</td>\n      <td>27.0</td>\n      <td>26.9</td>\n      <td>26.9</td>\n      <td>26.7</td>\n      <td>NaN</td>\n      <td>NaN</td>\n    </tr>\n    <tr>\n      <th>4</th>\n      <td>1954</td>\n      <td>26.9</td>\n      <td>26.9</td>\n      <td>26.9</td>\n      <td>26.8</td>\n      <td>26.9</td>\n      <td>26.9</td>\n      <td>26.9</td>\n      <td>26.9</td>\n      <td>26.8</td>\n      <td>26.8</td>\n      <td>26.8</td>\n      <td>26.7</td>\n      <td>26.9</td>\n      <td>NaN</td>\n      <td>NaN</td>\n    </tr>\n  </tbody>\n</table>\n</div>"
     },
     "metadata": {},
     "execution_count": 27
    }
   ],
   "source": [
    "CPI = 'CPIdata1950-2020.csv'\n",
    "CPI_df = pd.read_csv(CPI)\n",
    "CPI_df.head()"
   ]
  },
  {
   "cell_type": "code",
   "execution_count": 28,
   "metadata": {},
   "outputs": [],
   "source": [
    "# create index multiplier\n",
    "CPI_df['CPI_Multiplier'] = CPI_df['Annual'].iloc[-2] / CPI_df['Annual']"
   ]
  },
  {
   "cell_type": "code",
   "execution_count": 29,
   "metadata": {},
   "outputs": [
    {
     "output_type": "execute_result",
     "data": {
      "text/plain": "    Year      Jan      Feb      Mar      Apr      May      Jun      Jul  \\\n0   1950   23.500   23.500   23.600   23.600   23.700   23.800   24.100   \n1   1951   25.400   25.700   25.800   25.800   25.900   25.900   25.900   \n2   1952   26.500   26.300   26.300   26.400   26.400   26.500   26.700   \n3   1953   26.600   26.500   26.600   26.600   26.700   26.800   26.800   \n4   1954   26.900   26.900   26.900   26.800   26.900   26.900   26.900   \n..   ...      ...      ...      ...      ...      ...      ...      ...   \n66  2016  236.916  237.111  238.132  239.261  240.229  241.018  240.628   \n67  2017  242.839  243.603  243.801  244.524  244.733  244.955  244.786   \n68  2018  247.867  248.991  249.554  250.546  251.588  251.989  252.006   \n69  2019  251.712  252.776  254.202  255.548  256.092  256.143  256.571   \n70  2020  257.971  258.678  258.115  256.389  256.394  257.797  259.101   \n\n        Aug      Sep      Oct      Nov      Dec   Annual    HALF1    HALF2  \\\n0    24.300   24.400   24.600   24.700   25.000   24.100      NaN      NaN   \n1    25.900   26.100   26.200   26.400   26.500   26.000      NaN      NaN   \n2    26.700   26.700   26.700   26.700   26.700   26.500      NaN      NaN   \n3    26.900   26.900   27.000   26.900   26.900   26.700      NaN      NaN   \n4    26.900   26.800   26.800   26.800   26.700   26.900      NaN      NaN   \n..      ...      ...      ...      ...      ...      ...      ...      ...   \n66  240.849  241.428  241.729  241.353  241.432  240.007  238.778  241.237   \n67  245.519  246.819  246.663  246.669  246.524  245.120  244.076  246.163   \n68  252.146  252.439  252.885  252.038  251.233  251.107  250.089  252.125   \n69  256.558  256.759  257.346  257.208  256.974  255.657  254.412  256.903   \n70      NaN      NaN      NaN      NaN      NaN      NaN  257.557      NaN   \n\n    CPI_Multiplier  \n0        10.608174  \n1         9.832962  \n2         9.647434  \n3         9.575169  \n4         9.503978  \n..             ...  \n66        1.065206  \n67        1.042987  \n68        1.018120  \n69        1.000000  \n70             NaN  \n\n[71 rows x 17 columns]",
      "text/html": "<div>\n<style scoped>\n    .dataframe tbody tr th:only-of-type {\n        vertical-align: middle;\n    }\n\n    .dataframe tbody tr th {\n        vertical-align: top;\n    }\n\n    .dataframe thead th {\n        text-align: right;\n    }\n</style>\n<table border=\"1\" class=\"dataframe\">\n  <thead>\n    <tr style=\"text-align: right;\">\n      <th></th>\n      <th>Year</th>\n      <th>Jan</th>\n      <th>Feb</th>\n      <th>Mar</th>\n      <th>Apr</th>\n      <th>May</th>\n      <th>Jun</th>\n      <th>Jul</th>\n      <th>Aug</th>\n      <th>Sep</th>\n      <th>Oct</th>\n      <th>Nov</th>\n      <th>Dec</th>\n      <th>Annual</th>\n      <th>HALF1</th>\n      <th>HALF2</th>\n      <th>CPI_Multiplier</th>\n    </tr>\n  </thead>\n  <tbody>\n    <tr>\n      <th>0</th>\n      <td>1950</td>\n      <td>23.500</td>\n      <td>23.500</td>\n      <td>23.600</td>\n      <td>23.600</td>\n      <td>23.700</td>\n      <td>23.800</td>\n      <td>24.100</td>\n      <td>24.300</td>\n      <td>24.400</td>\n      <td>24.600</td>\n      <td>24.700</td>\n      <td>25.000</td>\n      <td>24.100</td>\n      <td>NaN</td>\n      <td>NaN</td>\n      <td>10.608174</td>\n    </tr>\n    <tr>\n      <th>1</th>\n      <td>1951</td>\n      <td>25.400</td>\n      <td>25.700</td>\n      <td>25.800</td>\n      <td>25.800</td>\n      <td>25.900</td>\n      <td>25.900</td>\n      <td>25.900</td>\n      <td>25.900</td>\n      <td>26.100</td>\n      <td>26.200</td>\n      <td>26.400</td>\n      <td>26.500</td>\n      <td>26.000</td>\n      <td>NaN</td>\n      <td>NaN</td>\n      <td>9.832962</td>\n    </tr>\n    <tr>\n      <th>2</th>\n      <td>1952</td>\n      <td>26.500</td>\n      <td>26.300</td>\n      <td>26.300</td>\n      <td>26.400</td>\n      <td>26.400</td>\n      <td>26.500</td>\n      <td>26.700</td>\n      <td>26.700</td>\n      <td>26.700</td>\n      <td>26.700</td>\n      <td>26.700</td>\n      <td>26.700</td>\n      <td>26.500</td>\n      <td>NaN</td>\n      <td>NaN</td>\n      <td>9.647434</td>\n    </tr>\n    <tr>\n      <th>3</th>\n      <td>1953</td>\n      <td>26.600</td>\n      <td>26.500</td>\n      <td>26.600</td>\n      <td>26.600</td>\n      <td>26.700</td>\n      <td>26.800</td>\n      <td>26.800</td>\n      <td>26.900</td>\n      <td>26.900</td>\n      <td>27.000</td>\n      <td>26.900</td>\n      <td>26.900</td>\n      <td>26.700</td>\n      <td>NaN</td>\n      <td>NaN</td>\n      <td>9.575169</td>\n    </tr>\n    <tr>\n      <th>4</th>\n      <td>1954</td>\n      <td>26.900</td>\n      <td>26.900</td>\n      <td>26.900</td>\n      <td>26.800</td>\n      <td>26.900</td>\n      <td>26.900</td>\n      <td>26.900</td>\n      <td>26.900</td>\n      <td>26.800</td>\n      <td>26.800</td>\n      <td>26.800</td>\n      <td>26.700</td>\n      <td>26.900</td>\n      <td>NaN</td>\n      <td>NaN</td>\n      <td>9.503978</td>\n    </tr>\n    <tr>\n      <th>...</th>\n      <td>...</td>\n      <td>...</td>\n      <td>...</td>\n      <td>...</td>\n      <td>...</td>\n      <td>...</td>\n      <td>...</td>\n      <td>...</td>\n      <td>...</td>\n      <td>...</td>\n      <td>...</td>\n      <td>...</td>\n      <td>...</td>\n      <td>...</td>\n      <td>...</td>\n      <td>...</td>\n      <td>...</td>\n    </tr>\n    <tr>\n      <th>66</th>\n      <td>2016</td>\n      <td>236.916</td>\n      <td>237.111</td>\n      <td>238.132</td>\n      <td>239.261</td>\n      <td>240.229</td>\n      <td>241.018</td>\n      <td>240.628</td>\n      <td>240.849</td>\n      <td>241.428</td>\n      <td>241.729</td>\n      <td>241.353</td>\n      <td>241.432</td>\n      <td>240.007</td>\n      <td>238.778</td>\n      <td>241.237</td>\n      <td>1.065206</td>\n    </tr>\n    <tr>\n      <th>67</th>\n      <td>2017</td>\n      <td>242.839</td>\n      <td>243.603</td>\n      <td>243.801</td>\n      <td>244.524</td>\n      <td>244.733</td>\n      <td>244.955</td>\n      <td>244.786</td>\n      <td>245.519</td>\n      <td>246.819</td>\n      <td>246.663</td>\n      <td>246.669</td>\n      <td>246.524</td>\n      <td>245.120</td>\n      <td>244.076</td>\n      <td>246.163</td>\n      <td>1.042987</td>\n    </tr>\n    <tr>\n      <th>68</th>\n      <td>2018</td>\n      <td>247.867</td>\n      <td>248.991</td>\n      <td>249.554</td>\n      <td>250.546</td>\n      <td>251.588</td>\n      <td>251.989</td>\n      <td>252.006</td>\n      <td>252.146</td>\n      <td>252.439</td>\n      <td>252.885</td>\n      <td>252.038</td>\n      <td>251.233</td>\n      <td>251.107</td>\n      <td>250.089</td>\n      <td>252.125</td>\n      <td>1.018120</td>\n    </tr>\n    <tr>\n      <th>69</th>\n      <td>2019</td>\n      <td>251.712</td>\n      <td>252.776</td>\n      <td>254.202</td>\n      <td>255.548</td>\n      <td>256.092</td>\n      <td>256.143</td>\n      <td>256.571</td>\n      <td>256.558</td>\n      <td>256.759</td>\n      <td>257.346</td>\n      <td>257.208</td>\n      <td>256.974</td>\n      <td>255.657</td>\n      <td>254.412</td>\n      <td>256.903</td>\n      <td>1.000000</td>\n    </tr>\n    <tr>\n      <th>70</th>\n      <td>2020</td>\n      <td>257.971</td>\n      <td>258.678</td>\n      <td>258.115</td>\n      <td>256.389</td>\n      <td>256.394</td>\n      <td>257.797</td>\n      <td>259.101</td>\n      <td>NaN</td>\n      <td>NaN</td>\n      <td>NaN</td>\n      <td>NaN</td>\n      <td>NaN</td>\n      <td>NaN</td>\n      <td>257.557</td>\n      <td>NaN</td>\n      <td>NaN</td>\n    </tr>\n  </tbody>\n</table>\n<p>71 rows × 17 columns</p>\n</div>"
     },
     "metadata": {},
     "execution_count": 29
    }
   ],
   "source": [
    "CPI_df"
   ]
  },
  {
   "cell_type": "code",
   "execution_count": 30,
   "metadata": {},
   "outputs": [],
   "source": [
    "clean_cpi = CPI_df.drop(['Jan','Feb','Mar','Apr','May','Jun','Jul','Aug','Sep','Oct','Nov','Dec','Annual','HALF1','HALF2'], axis=1)"
   ]
  },
  {
   "cell_type": "code",
   "execution_count": 31,
   "metadata": {},
   "outputs": [],
   "source": [
    "clean_cpi = clean_cpi.drop(index=70)"
   ]
  },
  {
   "cell_type": "code",
   "execution_count": 32,
   "metadata": {},
   "outputs": [
    {
     "output_type": "execute_result",
     "data": {
      "text/plain": "    Year  CPI_Multiplier\n0   1950       10.608174\n1   1951        9.832962\n2   1952        9.647434\n3   1953        9.575169\n4   1954        9.503978\n..   ...             ...\n65  2015        1.078644\n66  2016        1.065206\n67  2017        1.042987\n68  2018        1.018120\n69  2019        1.000000\n\n[70 rows x 2 columns]",
      "text/html": "<div>\n<style scoped>\n    .dataframe tbody tr th:only-of-type {\n        vertical-align: middle;\n    }\n\n    .dataframe tbody tr th {\n        vertical-align: top;\n    }\n\n    .dataframe thead th {\n        text-align: right;\n    }\n</style>\n<table border=\"1\" class=\"dataframe\">\n  <thead>\n    <tr style=\"text-align: right;\">\n      <th></th>\n      <th>Year</th>\n      <th>CPI_Multiplier</th>\n    </tr>\n  </thead>\n  <tbody>\n    <tr>\n      <th>0</th>\n      <td>1950</td>\n      <td>10.608174</td>\n    </tr>\n    <tr>\n      <th>1</th>\n      <td>1951</td>\n      <td>9.832962</td>\n    </tr>\n    <tr>\n      <th>2</th>\n      <td>1952</td>\n      <td>9.647434</td>\n    </tr>\n    <tr>\n      <th>3</th>\n      <td>1953</td>\n      <td>9.575169</td>\n    </tr>\n    <tr>\n      <th>4</th>\n      <td>1954</td>\n      <td>9.503978</td>\n    </tr>\n    <tr>\n      <th>...</th>\n      <td>...</td>\n      <td>...</td>\n    </tr>\n    <tr>\n      <th>65</th>\n      <td>2015</td>\n      <td>1.078644</td>\n    </tr>\n    <tr>\n      <th>66</th>\n      <td>2016</td>\n      <td>1.065206</td>\n    </tr>\n    <tr>\n      <th>67</th>\n      <td>2017</td>\n      <td>1.042987</td>\n    </tr>\n    <tr>\n      <th>68</th>\n      <td>2018</td>\n      <td>1.018120</td>\n    </tr>\n    <tr>\n      <th>69</th>\n      <td>2019</td>\n      <td>1.000000</td>\n    </tr>\n  </tbody>\n</table>\n<p>70 rows × 2 columns</p>\n</div>"
     },
     "metadata": {},
     "execution_count": 32
    }
   ],
   "source": [
    "clean_cpi"
   ]
  },
  {
   "cell_type": "code",
   "execution_count": 33,
   "metadata": {},
   "outputs": [],
   "source": [
    "clean_cpi.to_csv('clean_cpi.csv', index=False)"
   ]
  },
  {
   "cell_type": "code",
   "execution_count": 34,
   "metadata": {},
   "outputs": [
    {
     "output_type": "execute_result",
     "data": {
      "text/plain": "    YEAR  CPI_Multiplier\n0   1950       10.608174\n1   1951        9.832962\n2   1952        9.647434\n3   1953        9.575169\n4   1954        9.503978\n..   ...             ...\n65  2015        1.078644\n66  2016        1.065206\n67  2017        1.042987\n68  2018        1.018120\n69  2019        1.000000\n\n[70 rows x 2 columns]",
      "text/html": "<div>\n<style scoped>\n    .dataframe tbody tr th:only-of-type {\n        vertical-align: middle;\n    }\n\n    .dataframe tbody tr th {\n        vertical-align: top;\n    }\n\n    .dataframe thead th {\n        text-align: right;\n    }\n</style>\n<table border=\"1\" class=\"dataframe\">\n  <thead>\n    <tr style=\"text-align: right;\">\n      <th></th>\n      <th>YEAR</th>\n      <th>CPI_Multiplier</th>\n    </tr>\n  </thead>\n  <tbody>\n    <tr>\n      <th>0</th>\n      <td>1950</td>\n      <td>10.608174</td>\n    </tr>\n    <tr>\n      <th>1</th>\n      <td>1951</td>\n      <td>9.832962</td>\n    </tr>\n    <tr>\n      <th>2</th>\n      <td>1952</td>\n      <td>9.647434</td>\n    </tr>\n    <tr>\n      <th>3</th>\n      <td>1953</td>\n      <td>9.575169</td>\n    </tr>\n    <tr>\n      <th>4</th>\n      <td>1954</td>\n      <td>9.503978</td>\n    </tr>\n    <tr>\n      <th>...</th>\n      <td>...</td>\n      <td>...</td>\n    </tr>\n    <tr>\n      <th>65</th>\n      <td>2015</td>\n      <td>1.078644</td>\n    </tr>\n    <tr>\n      <th>66</th>\n      <td>2016</td>\n      <td>1.065206</td>\n    </tr>\n    <tr>\n      <th>67</th>\n      <td>2017</td>\n      <td>1.042987</td>\n    </tr>\n    <tr>\n      <th>68</th>\n      <td>2018</td>\n      <td>1.018120</td>\n    </tr>\n    <tr>\n      <th>69</th>\n      <td>2019</td>\n      <td>1.000000</td>\n    </tr>\n  </tbody>\n</table>\n<p>70 rows × 2 columns</p>\n</div>"
     },
     "metadata": {},
     "execution_count": 34
    }
   ],
   "source": [
    "file_to_load = 'clean_cpi.csv'\n",
    "data = pd.read_csv(file_to_load)\n",
    "clean_cpi = data \n",
    "clean_cpi = clean_cpi.rename(columns={'Year': 'YEAR'})\n",
    "clean_cpi"
   ]
  },
  {
   "cell_type": "code",
   "execution_count": 35,
   "metadata": {},
   "outputs": [
    {
     "output_type": "execute_result",
     "data": {
      "text/plain": "        Unnamed: 0  Unnamed: 0.1  EVENT_ID         STATE  YEAR MONTH_NAME  \\\n0                0             0  10096222      OKLAHOMA  1950      April   \n1                1             1  10120412         TEXAS  1950      April   \n2                2             2  10104927  PENNSYLVANIA  1950       July   \n3                3             3  10104928  PENNSYLVANIA  1950       July   \n4                4             4  10104929  PENNSYLVANIA  1950       July   \n...            ...           ...       ...           ...   ...        ...   \n262573      380963       1602142    859300    CALIFORNIA  2019  September   \n262574      380965       1602163    851786          IOWA  2019     August   \n262575      380966       1602164    851787          IOWA  2019     August   \n262576      380967       1602168    855914       ARIZONA  2019  September   \n262577      380969       1602175    859302    CALIFORNIA  2019  September   \n\n          EVENT_TYPE  INJURIES_DIRECT  INJURIES_INDIRECT  DEATHS_DIRECT  \\\n0            Tornado                0                  0              0   \n1            Tornado                0                  0              0   \n2            Tornado                2                  0              0   \n3            Tornado                0                  0              0   \n4            Tornado                0                  0              0   \n...              ...              ...                ...            ...   \n262573  Thunderstorm                0                  0              0   \n262574  Thunderstorm                0                  0              0   \n262575  Thunderstorm                0                  0              0   \n262576  Thunderstorm                0                  0              0   \n262577  Thunderstorm                0                  0              0   \n\n        DEATHS_INDIRECT  DAMAGE_PROPERTY  DAMAGE_CROPS  MAGNITUDE DATA_SOURCE  \\\n0                     0         250000.0           0.0        0.0         PUB   \n1                     0          25000.0           0.0        0.0         PUB   \n2                     0          25000.0           0.0        0.0         PUB   \n3                     0           2500.0           0.0        0.0         PUB   \n4                     0           2500.0           0.0        0.0         PUB   \n...                 ...              ...           ...        ...         ...   \n262573                0              0.0     2500000.0       43.0         CSV   \n262574                0          50000.0           0.0       61.0         CSV   \n262575                0         100000.0           0.0       74.0         CSV   \n262576                0           3000.0           0.0       60.0         CSV   \n262577                0        4000000.0           0.0       43.0         CSV   \n\n        property_money_identifier  crops_money_identifier  \n0                            1000                       1  \n1                            1000                       1  \n2                            1000                       1  \n3                            1000                       1  \n4                            1000                       1  \n...                           ...                     ...  \n262573                          1                    1000  \n262574                       1000                       1  \n262575                       1000                       1  \n262576                       1000                    1000  \n262577                       1000                    1000  \n\n[262578 rows x 17 columns]",
      "text/html": "<div>\n<style scoped>\n    .dataframe tbody tr th:only-of-type {\n        vertical-align: middle;\n    }\n\n    .dataframe tbody tr th {\n        vertical-align: top;\n    }\n\n    .dataframe thead th {\n        text-align: right;\n    }\n</style>\n<table border=\"1\" class=\"dataframe\">\n  <thead>\n    <tr style=\"text-align: right;\">\n      <th></th>\n      <th>Unnamed: 0</th>\n      <th>Unnamed: 0.1</th>\n      <th>EVENT_ID</th>\n      <th>STATE</th>\n      <th>YEAR</th>\n      <th>MONTH_NAME</th>\n      <th>EVENT_TYPE</th>\n      <th>INJURIES_DIRECT</th>\n      <th>INJURIES_INDIRECT</th>\n      <th>DEATHS_DIRECT</th>\n      <th>DEATHS_INDIRECT</th>\n      <th>DAMAGE_PROPERTY</th>\n      <th>DAMAGE_CROPS</th>\n      <th>MAGNITUDE</th>\n      <th>DATA_SOURCE</th>\n      <th>property_money_identifier</th>\n      <th>crops_money_identifier</th>\n    </tr>\n  </thead>\n  <tbody>\n    <tr>\n      <th>0</th>\n      <td>0</td>\n      <td>0</td>\n      <td>10096222</td>\n      <td>OKLAHOMA</td>\n      <td>1950</td>\n      <td>April</td>\n      <td>Tornado</td>\n      <td>0</td>\n      <td>0</td>\n      <td>0</td>\n      <td>0</td>\n      <td>250000.0</td>\n      <td>0.0</td>\n      <td>0.0</td>\n      <td>PUB</td>\n      <td>1000</td>\n      <td>1</td>\n    </tr>\n    <tr>\n      <th>1</th>\n      <td>1</td>\n      <td>1</td>\n      <td>10120412</td>\n      <td>TEXAS</td>\n      <td>1950</td>\n      <td>April</td>\n      <td>Tornado</td>\n      <td>0</td>\n      <td>0</td>\n      <td>0</td>\n      <td>0</td>\n      <td>25000.0</td>\n      <td>0.0</td>\n      <td>0.0</td>\n      <td>PUB</td>\n      <td>1000</td>\n      <td>1</td>\n    </tr>\n    <tr>\n      <th>2</th>\n      <td>2</td>\n      <td>2</td>\n      <td>10104927</td>\n      <td>PENNSYLVANIA</td>\n      <td>1950</td>\n      <td>July</td>\n      <td>Tornado</td>\n      <td>2</td>\n      <td>0</td>\n      <td>0</td>\n      <td>0</td>\n      <td>25000.0</td>\n      <td>0.0</td>\n      <td>0.0</td>\n      <td>PUB</td>\n      <td>1000</td>\n      <td>1</td>\n    </tr>\n    <tr>\n      <th>3</th>\n      <td>3</td>\n      <td>3</td>\n      <td>10104928</td>\n      <td>PENNSYLVANIA</td>\n      <td>1950</td>\n      <td>July</td>\n      <td>Tornado</td>\n      <td>0</td>\n      <td>0</td>\n      <td>0</td>\n      <td>0</td>\n      <td>2500.0</td>\n      <td>0.0</td>\n      <td>0.0</td>\n      <td>PUB</td>\n      <td>1000</td>\n      <td>1</td>\n    </tr>\n    <tr>\n      <th>4</th>\n      <td>4</td>\n      <td>4</td>\n      <td>10104929</td>\n      <td>PENNSYLVANIA</td>\n      <td>1950</td>\n      <td>July</td>\n      <td>Tornado</td>\n      <td>0</td>\n      <td>0</td>\n      <td>0</td>\n      <td>0</td>\n      <td>2500.0</td>\n      <td>0.0</td>\n      <td>0.0</td>\n      <td>PUB</td>\n      <td>1000</td>\n      <td>1</td>\n    </tr>\n    <tr>\n      <th>...</th>\n      <td>...</td>\n      <td>...</td>\n      <td>...</td>\n      <td>...</td>\n      <td>...</td>\n      <td>...</td>\n      <td>...</td>\n      <td>...</td>\n      <td>...</td>\n      <td>...</td>\n      <td>...</td>\n      <td>...</td>\n      <td>...</td>\n      <td>...</td>\n      <td>...</td>\n      <td>...</td>\n      <td>...</td>\n    </tr>\n    <tr>\n      <th>262573</th>\n      <td>380963</td>\n      <td>1602142</td>\n      <td>859300</td>\n      <td>CALIFORNIA</td>\n      <td>2019</td>\n      <td>September</td>\n      <td>Thunderstorm</td>\n      <td>0</td>\n      <td>0</td>\n      <td>0</td>\n      <td>0</td>\n      <td>0.0</td>\n      <td>2500000.0</td>\n      <td>43.0</td>\n      <td>CSV</td>\n      <td>1</td>\n      <td>1000</td>\n    </tr>\n    <tr>\n      <th>262574</th>\n      <td>380965</td>\n      <td>1602163</td>\n      <td>851786</td>\n      <td>IOWA</td>\n      <td>2019</td>\n      <td>August</td>\n      <td>Thunderstorm</td>\n      <td>0</td>\n      <td>0</td>\n      <td>0</td>\n      <td>0</td>\n      <td>50000.0</td>\n      <td>0.0</td>\n      <td>61.0</td>\n      <td>CSV</td>\n      <td>1000</td>\n      <td>1</td>\n    </tr>\n    <tr>\n      <th>262575</th>\n      <td>380966</td>\n      <td>1602164</td>\n      <td>851787</td>\n      <td>IOWA</td>\n      <td>2019</td>\n      <td>August</td>\n      <td>Thunderstorm</td>\n      <td>0</td>\n      <td>0</td>\n      <td>0</td>\n      <td>0</td>\n      <td>100000.0</td>\n      <td>0.0</td>\n      <td>74.0</td>\n      <td>CSV</td>\n      <td>1000</td>\n      <td>1</td>\n    </tr>\n    <tr>\n      <th>262576</th>\n      <td>380967</td>\n      <td>1602168</td>\n      <td>855914</td>\n      <td>ARIZONA</td>\n      <td>2019</td>\n      <td>September</td>\n      <td>Thunderstorm</td>\n      <td>0</td>\n      <td>0</td>\n      <td>0</td>\n      <td>0</td>\n      <td>3000.0</td>\n      <td>0.0</td>\n      <td>60.0</td>\n      <td>CSV</td>\n      <td>1000</td>\n      <td>1000</td>\n    </tr>\n    <tr>\n      <th>262577</th>\n      <td>380969</td>\n      <td>1602175</td>\n      <td>859302</td>\n      <td>CALIFORNIA</td>\n      <td>2019</td>\n      <td>September</td>\n      <td>Thunderstorm</td>\n      <td>0</td>\n      <td>0</td>\n      <td>0</td>\n      <td>0</td>\n      <td>4000000.0</td>\n      <td>0.0</td>\n      <td>43.0</td>\n      <td>CSV</td>\n      <td>1000</td>\n      <td>1000</td>\n    </tr>\n  </tbody>\n</table>\n<p>262578 rows × 17 columns</p>\n</div>"
     },
     "metadata": {},
     "execution_count": 35
    }
   ],
   "source": [
    "file_to_load = 'ttwh_df.csv'\n",
    "data = pd.read_csv(file_to_load)\n",
    "clean_df = data \n",
    "clean_df"
   ]
  },
  {
   "cell_type": "code",
   "execution_count": 36,
   "metadata": {},
   "outputs": [
    {
     "output_type": "execute_result",
     "data": {
      "text/plain": "   Unnamed: 0  Unnamed: 0.1  EVENT_ID         STATE  YEAR MONTH_NAME  \\\n0           0             0  10096222      OKLAHOMA  1950      April   \n1           1             1  10120412         TEXAS  1950      April   \n2           2             2  10104927  PENNSYLVANIA  1950       July   \n3           3             3  10104928  PENNSYLVANIA  1950       July   \n4           4             4  10104929  PENNSYLVANIA  1950       July   \n\n  EVENT_TYPE  INJURIES_DIRECT  INJURIES_INDIRECT  DEATHS_DIRECT  \\\n0    Tornado                0                  0              0   \n1    Tornado                0                  0              0   \n2    Tornado                2                  0              0   \n3    Tornado                0                  0              0   \n4    Tornado                0                  0              0   \n\n   DEATHS_INDIRECT  DAMAGE_PROPERTY  DAMAGE_CROPS  MAGNITUDE DATA_SOURCE  \\\n0                0         250000.0           0.0        0.0         PUB   \n1                0          25000.0           0.0        0.0         PUB   \n2                0          25000.0           0.0        0.0         PUB   \n3                0           2500.0           0.0        0.0         PUB   \n4                0           2500.0           0.0        0.0         PUB   \n\n   property_money_identifier  crops_money_identifier  CPI_Multiplier  \n0                       1000                       1       10.608174  \n1                       1000                       1       10.608174  \n2                       1000                       1       10.608174  \n3                       1000                       1       10.608174  \n4                       1000                       1       10.608174  ",
      "text/html": "<div>\n<style scoped>\n    .dataframe tbody tr th:only-of-type {\n        vertical-align: middle;\n    }\n\n    .dataframe tbody tr th {\n        vertical-align: top;\n    }\n\n    .dataframe thead th {\n        text-align: right;\n    }\n</style>\n<table border=\"1\" class=\"dataframe\">\n  <thead>\n    <tr style=\"text-align: right;\">\n      <th></th>\n      <th>Unnamed: 0</th>\n      <th>Unnamed: 0.1</th>\n      <th>EVENT_ID</th>\n      <th>STATE</th>\n      <th>YEAR</th>\n      <th>MONTH_NAME</th>\n      <th>EVENT_TYPE</th>\n      <th>INJURIES_DIRECT</th>\n      <th>INJURIES_INDIRECT</th>\n      <th>DEATHS_DIRECT</th>\n      <th>DEATHS_INDIRECT</th>\n      <th>DAMAGE_PROPERTY</th>\n      <th>DAMAGE_CROPS</th>\n      <th>MAGNITUDE</th>\n      <th>DATA_SOURCE</th>\n      <th>property_money_identifier</th>\n      <th>crops_money_identifier</th>\n      <th>CPI_Multiplier</th>\n    </tr>\n  </thead>\n  <tbody>\n    <tr>\n      <th>0</th>\n      <td>0</td>\n      <td>0</td>\n      <td>10096222</td>\n      <td>OKLAHOMA</td>\n      <td>1950</td>\n      <td>April</td>\n      <td>Tornado</td>\n      <td>0</td>\n      <td>0</td>\n      <td>0</td>\n      <td>0</td>\n      <td>250000.0</td>\n      <td>0.0</td>\n      <td>0.0</td>\n      <td>PUB</td>\n      <td>1000</td>\n      <td>1</td>\n      <td>10.608174</td>\n    </tr>\n    <tr>\n      <th>1</th>\n      <td>1</td>\n      <td>1</td>\n      <td>10120412</td>\n      <td>TEXAS</td>\n      <td>1950</td>\n      <td>April</td>\n      <td>Tornado</td>\n      <td>0</td>\n      <td>0</td>\n      <td>0</td>\n      <td>0</td>\n      <td>25000.0</td>\n      <td>0.0</td>\n      <td>0.0</td>\n      <td>PUB</td>\n      <td>1000</td>\n      <td>1</td>\n      <td>10.608174</td>\n    </tr>\n    <tr>\n      <th>2</th>\n      <td>2</td>\n      <td>2</td>\n      <td>10104927</td>\n      <td>PENNSYLVANIA</td>\n      <td>1950</td>\n      <td>July</td>\n      <td>Tornado</td>\n      <td>2</td>\n      <td>0</td>\n      <td>0</td>\n      <td>0</td>\n      <td>25000.0</td>\n      <td>0.0</td>\n      <td>0.0</td>\n      <td>PUB</td>\n      <td>1000</td>\n      <td>1</td>\n      <td>10.608174</td>\n    </tr>\n    <tr>\n      <th>3</th>\n      <td>3</td>\n      <td>3</td>\n      <td>10104928</td>\n      <td>PENNSYLVANIA</td>\n      <td>1950</td>\n      <td>July</td>\n      <td>Tornado</td>\n      <td>0</td>\n      <td>0</td>\n      <td>0</td>\n      <td>0</td>\n      <td>2500.0</td>\n      <td>0.0</td>\n      <td>0.0</td>\n      <td>PUB</td>\n      <td>1000</td>\n      <td>1</td>\n      <td>10.608174</td>\n    </tr>\n    <tr>\n      <th>4</th>\n      <td>4</td>\n      <td>4</td>\n      <td>10104929</td>\n      <td>PENNSYLVANIA</td>\n      <td>1950</td>\n      <td>July</td>\n      <td>Tornado</td>\n      <td>0</td>\n      <td>0</td>\n      <td>0</td>\n      <td>0</td>\n      <td>2500.0</td>\n      <td>0.0</td>\n      <td>0.0</td>\n      <td>PUB</td>\n      <td>1000</td>\n      <td>1</td>\n      <td>10.608174</td>\n    </tr>\n  </tbody>\n</table>\n</div>"
     },
     "metadata": {},
     "execution_count": 36
    }
   ],
   "source": [
    "merged_df = pd.merge(clean_df, clean_cpi, how='left', on='YEAR')\n",
    "merged_df.head()"
   ]
  },
  {
   "cell_type": "code",
   "execution_count": 37,
   "metadata": {},
   "outputs": [
    {
     "output_type": "execute_result",
     "data": {
      "text/plain": "   Unnamed: 0  Unnamed: 0.1  EVENT_ID         STATE  YEAR MONTH_NAME  \\\n0           0             0  10096222      OKLAHOMA  1950      April   \n1           1             1  10120412         TEXAS  1950      April   \n2           2             2  10104927  PENNSYLVANIA  1950       July   \n3           3             3  10104928  PENNSYLVANIA  1950       July   \n4           4             4  10104929  PENNSYLVANIA  1950       July   \n\n  EVENT_TYPE  INJURIES_DIRECT  INJURIES_INDIRECT  DEATHS_DIRECT  \\\n0    Tornado                0                  0              0   \n1    Tornado                0                  0              0   \n2    Tornado                2                  0              0   \n3    Tornado                0                  0              0   \n4    Tornado                0                  0              0   \n\n   DEATHS_INDIRECT  DAMAGE_PROPERTY  DAMAGE_CROPS  MAGNITUDE DATA_SOURCE  \\\n0                0         250000.0           0.0        0.0         PUB   \n1                0          25000.0           0.0        0.0         PUB   \n2                0          25000.0           0.0        0.0         PUB   \n3                0           2500.0           0.0        0.0         PUB   \n4                0           2500.0           0.0        0.0         PUB   \n\n   property_money_identifier  crops_money_identifier  CPI_Multiplier  \\\n0                       1000                       1       10.608174   \n1                       1000                       1       10.608174   \n2                       1000                       1       10.608174   \n3                       1000                       1       10.608174   \n4                       1000                       1       10.608174   \n\n    CPIAdjPrice  CROPADJ  \n0  2.652044e+06      0.0  \n1  2.652044e+05      0.0  \n2  2.652044e+05      0.0  \n3  2.652044e+04      0.0  \n4  2.652044e+04      0.0  ",
      "text/html": "<div>\n<style scoped>\n    .dataframe tbody tr th:only-of-type {\n        vertical-align: middle;\n    }\n\n    .dataframe tbody tr th {\n        vertical-align: top;\n    }\n\n    .dataframe thead th {\n        text-align: right;\n    }\n</style>\n<table border=\"1\" class=\"dataframe\">\n  <thead>\n    <tr style=\"text-align: right;\">\n      <th></th>\n      <th>Unnamed: 0</th>\n      <th>Unnamed: 0.1</th>\n      <th>EVENT_ID</th>\n      <th>STATE</th>\n      <th>YEAR</th>\n      <th>MONTH_NAME</th>\n      <th>EVENT_TYPE</th>\n      <th>INJURIES_DIRECT</th>\n      <th>INJURIES_INDIRECT</th>\n      <th>DEATHS_DIRECT</th>\n      <th>DEATHS_INDIRECT</th>\n      <th>DAMAGE_PROPERTY</th>\n      <th>DAMAGE_CROPS</th>\n      <th>MAGNITUDE</th>\n      <th>DATA_SOURCE</th>\n      <th>property_money_identifier</th>\n      <th>crops_money_identifier</th>\n      <th>CPI_Multiplier</th>\n      <th>CPIAdjPrice</th>\n      <th>CROPADJ</th>\n    </tr>\n  </thead>\n  <tbody>\n    <tr>\n      <th>0</th>\n      <td>0</td>\n      <td>0</td>\n      <td>10096222</td>\n      <td>OKLAHOMA</td>\n      <td>1950</td>\n      <td>April</td>\n      <td>Tornado</td>\n      <td>0</td>\n      <td>0</td>\n      <td>0</td>\n      <td>0</td>\n      <td>250000.0</td>\n      <td>0.0</td>\n      <td>0.0</td>\n      <td>PUB</td>\n      <td>1000</td>\n      <td>1</td>\n      <td>10.608174</td>\n      <td>2.652044e+06</td>\n      <td>0.0</td>\n    </tr>\n    <tr>\n      <th>1</th>\n      <td>1</td>\n      <td>1</td>\n      <td>10120412</td>\n      <td>TEXAS</td>\n      <td>1950</td>\n      <td>April</td>\n      <td>Tornado</td>\n      <td>0</td>\n      <td>0</td>\n      <td>0</td>\n      <td>0</td>\n      <td>25000.0</td>\n      <td>0.0</td>\n      <td>0.0</td>\n      <td>PUB</td>\n      <td>1000</td>\n      <td>1</td>\n      <td>10.608174</td>\n      <td>2.652044e+05</td>\n      <td>0.0</td>\n    </tr>\n    <tr>\n      <th>2</th>\n      <td>2</td>\n      <td>2</td>\n      <td>10104927</td>\n      <td>PENNSYLVANIA</td>\n      <td>1950</td>\n      <td>July</td>\n      <td>Tornado</td>\n      <td>2</td>\n      <td>0</td>\n      <td>0</td>\n      <td>0</td>\n      <td>25000.0</td>\n      <td>0.0</td>\n      <td>0.0</td>\n      <td>PUB</td>\n      <td>1000</td>\n      <td>1</td>\n      <td>10.608174</td>\n      <td>2.652044e+05</td>\n      <td>0.0</td>\n    </tr>\n    <tr>\n      <th>3</th>\n      <td>3</td>\n      <td>3</td>\n      <td>10104928</td>\n      <td>PENNSYLVANIA</td>\n      <td>1950</td>\n      <td>July</td>\n      <td>Tornado</td>\n      <td>0</td>\n      <td>0</td>\n      <td>0</td>\n      <td>0</td>\n      <td>2500.0</td>\n      <td>0.0</td>\n      <td>0.0</td>\n      <td>PUB</td>\n      <td>1000</td>\n      <td>1</td>\n      <td>10.608174</td>\n      <td>2.652044e+04</td>\n      <td>0.0</td>\n    </tr>\n    <tr>\n      <th>4</th>\n      <td>4</td>\n      <td>4</td>\n      <td>10104929</td>\n      <td>PENNSYLVANIA</td>\n      <td>1950</td>\n      <td>July</td>\n      <td>Tornado</td>\n      <td>0</td>\n      <td>0</td>\n      <td>0</td>\n      <td>0</td>\n      <td>2500.0</td>\n      <td>0.0</td>\n      <td>0.0</td>\n      <td>PUB</td>\n      <td>1000</td>\n      <td>1</td>\n      <td>10.608174</td>\n      <td>2.652044e+04</td>\n      <td>0.0</td>\n    </tr>\n  </tbody>\n</table>\n</div>"
     },
     "metadata": {},
     "execution_count": 37
    }
   ],
   "source": [
    "merged_df['CPIAdjPrice'] = merged_df['DAMAGE_PROPERTY'] * merged_df['CPI_Multiplier']\n",
    "merged_df['CROPADJ'] = merged_df['DAMAGE_CROPS'] * merged_df['CPI_Multiplier']\n",
    "merged_df.head()"
   ]
  },
  {
   "cell_type": "code",
   "execution_count": 38,
   "metadata": {},
   "outputs": [],
   "source": [
    "#merged_df.to_csv('CPIadjPrice.csv', index=False)"
   ]
  },
  {
   "cell_type": "code",
   "execution_count": 39,
   "metadata": {},
   "outputs": [],
   "source": [
    "merged_df.to_csv('ttwhadj.csv', index=False)"
   ]
  },
  {
   "cell_type": "code",
   "execution_count": 40,
   "metadata": {},
   "outputs": [
    {
     "output_type": "execute_result",
     "data": {
      "text/plain": "        Unnamed: 0  Unnamed: 0.1  EVENT_ID           STATE  YEAR MONTH_NAME  \\\n0            26163        188790  10317829         FLORIDA  1993      March   \n1            37804        215779  10338716  NORTH CAROLINA  1995       June   \n2            38225        216743  10337585  NORTH CAROLINA  1995       June   \n3            38227        216745  10337587  NORTH CAROLINA  1995       June   \n4            38228        216746  10337588  NORTH CAROLINA  1995       June   \n...            ...           ...       ...             ...   ...        ...   \n118387      380959       1602127    857515        VIRGINIA  2019  September   \n118388      380960       1602128    857520        VIRGINIA  2019  September   \n118389      380961       1602136    858098      CALIFORNIA  2019  September   \n118390      380964       1602162    857521        VIRGINIA  2019  September   \n118391      380968       1602172    861557        ILLINOIS  2019       June   \n\n                        EVENT_TYPE  INJURIES_DIRECT  INJURIES_INDIRECT  \\\n0       TORNADOES, TSTM WIND, HAIL                0                  0   \n1         THUNDERSTORM WIND/ TREES                0                  0   \n2          THUNDERSTORM WIND/ TREE                0                  0   \n3         THUNDERSTORM WIND/ TREES                0                  0   \n4         THUNDERSTORM WIND/ TREES                0                  0   \n...                            ...              ...                ...   \n118387              Tropical Storm                0                  0   \n118388              Tropical Storm                0                  0   \n118389                 Strong Wind                0                  0   \n118390              Tropical Storm                0                  0   \n118391                       Flood                0                  0   \n\n        DEATHS_DIRECT  DEATHS_INDIRECT  DAMAGE_PROPERTY  DAMAGE_CROPS  \\\n0                  25                0     1.600000e+09     2500000.0   \n1                   0                0     2.000000e+03           0.0   \n2                   0                0     1.000000e+03           0.0   \n3                   0                0     1.000000e+03           0.0   \n4                   0                0     2.000000e+03           0.0   \n...               ...              ...              ...           ...   \n118387              0                0     1.000000e+04           0.0   \n118388              0                0     1.500000e+04           0.0   \n118389              0                0     2.000000e+03           0.0   \n118390              0                0     1.000000e+04           0.0   \n118391              0                0     8.100000e+06           0.0   \n\n        MAGNITUDE DATA_SOURCE  property_money_identifier  \\\n0             0.0         CSV                 1000000000   \n1             0.0         CSV                       1000   \n2             0.0         CSV                       1000   \n3             0.0         CSV                       1000   \n4             0.0         CSV                       1000   \n...           ...         ...                        ...   \n118387        NaN         CSV                       1000   \n118388        NaN         CSV                       1000   \n118389       35.0         CSV                       1000   \n118390        NaN         CSV                       1000   \n118391        NaN         CSV                    1000000   \n\n        crops_money_identifier  \n0                      1000000  \n1                            1  \n2                            1  \n3                            1  \n4                            1  \n...                        ...  \n118387                    1000  \n118388                    1000  \n118389                    1000  \n118390                    1000  \n118391                    1000  \n\n[118392 rows x 17 columns]",
      "text/html": "<div>\n<style scoped>\n    .dataframe tbody tr th:only-of-type {\n        vertical-align: middle;\n    }\n\n    .dataframe tbody tr th {\n        vertical-align: top;\n    }\n\n    .dataframe thead th {\n        text-align: right;\n    }\n</style>\n<table border=\"1\" class=\"dataframe\">\n  <thead>\n    <tr style=\"text-align: right;\">\n      <th></th>\n      <th>Unnamed: 0</th>\n      <th>Unnamed: 0.1</th>\n      <th>EVENT_ID</th>\n      <th>STATE</th>\n      <th>YEAR</th>\n      <th>MONTH_NAME</th>\n      <th>EVENT_TYPE</th>\n      <th>INJURIES_DIRECT</th>\n      <th>INJURIES_INDIRECT</th>\n      <th>DEATHS_DIRECT</th>\n      <th>DEATHS_INDIRECT</th>\n      <th>DAMAGE_PROPERTY</th>\n      <th>DAMAGE_CROPS</th>\n      <th>MAGNITUDE</th>\n      <th>DATA_SOURCE</th>\n      <th>property_money_identifier</th>\n      <th>crops_money_identifier</th>\n    </tr>\n  </thead>\n  <tbody>\n    <tr>\n      <th>0</th>\n      <td>26163</td>\n      <td>188790</td>\n      <td>10317829</td>\n      <td>FLORIDA</td>\n      <td>1993</td>\n      <td>March</td>\n      <td>TORNADOES, TSTM WIND, HAIL</td>\n      <td>0</td>\n      <td>0</td>\n      <td>25</td>\n      <td>0</td>\n      <td>1.600000e+09</td>\n      <td>2500000.0</td>\n      <td>0.0</td>\n      <td>CSV</td>\n      <td>1000000000</td>\n      <td>1000000</td>\n    </tr>\n    <tr>\n      <th>1</th>\n      <td>37804</td>\n      <td>215779</td>\n      <td>10338716</td>\n      <td>NORTH CAROLINA</td>\n      <td>1995</td>\n      <td>June</td>\n      <td>THUNDERSTORM WIND/ TREES</td>\n      <td>0</td>\n      <td>0</td>\n      <td>0</td>\n      <td>0</td>\n      <td>2.000000e+03</td>\n      <td>0.0</td>\n      <td>0.0</td>\n      <td>CSV</td>\n      <td>1000</td>\n      <td>1</td>\n    </tr>\n    <tr>\n      <th>2</th>\n      <td>38225</td>\n      <td>216743</td>\n      <td>10337585</td>\n      <td>NORTH CAROLINA</td>\n      <td>1995</td>\n      <td>June</td>\n      <td>THUNDERSTORM WIND/ TREE</td>\n      <td>0</td>\n      <td>0</td>\n      <td>0</td>\n      <td>0</td>\n      <td>1.000000e+03</td>\n      <td>0.0</td>\n      <td>0.0</td>\n      <td>CSV</td>\n      <td>1000</td>\n      <td>1</td>\n    </tr>\n    <tr>\n      <th>3</th>\n      <td>38227</td>\n      <td>216745</td>\n      <td>10337587</td>\n      <td>NORTH CAROLINA</td>\n      <td>1995</td>\n      <td>June</td>\n      <td>THUNDERSTORM WIND/ TREES</td>\n      <td>0</td>\n      <td>0</td>\n      <td>0</td>\n      <td>0</td>\n      <td>1.000000e+03</td>\n      <td>0.0</td>\n      <td>0.0</td>\n      <td>CSV</td>\n      <td>1000</td>\n      <td>1</td>\n    </tr>\n    <tr>\n      <th>4</th>\n      <td>38228</td>\n      <td>216746</td>\n      <td>10337588</td>\n      <td>NORTH CAROLINA</td>\n      <td>1995</td>\n      <td>June</td>\n      <td>THUNDERSTORM WIND/ TREES</td>\n      <td>0</td>\n      <td>0</td>\n      <td>0</td>\n      <td>0</td>\n      <td>2.000000e+03</td>\n      <td>0.0</td>\n      <td>0.0</td>\n      <td>CSV</td>\n      <td>1000</td>\n      <td>1</td>\n    </tr>\n    <tr>\n      <th>...</th>\n      <td>...</td>\n      <td>...</td>\n      <td>...</td>\n      <td>...</td>\n      <td>...</td>\n      <td>...</td>\n      <td>...</td>\n      <td>...</td>\n      <td>...</td>\n      <td>...</td>\n      <td>...</td>\n      <td>...</td>\n      <td>...</td>\n      <td>...</td>\n      <td>...</td>\n      <td>...</td>\n      <td>...</td>\n    </tr>\n    <tr>\n      <th>118387</th>\n      <td>380959</td>\n      <td>1602127</td>\n      <td>857515</td>\n      <td>VIRGINIA</td>\n      <td>2019</td>\n      <td>September</td>\n      <td>Tropical Storm</td>\n      <td>0</td>\n      <td>0</td>\n      <td>0</td>\n      <td>0</td>\n      <td>1.000000e+04</td>\n      <td>0.0</td>\n      <td>NaN</td>\n      <td>CSV</td>\n      <td>1000</td>\n      <td>1000</td>\n    </tr>\n    <tr>\n      <th>118388</th>\n      <td>380960</td>\n      <td>1602128</td>\n      <td>857520</td>\n      <td>VIRGINIA</td>\n      <td>2019</td>\n      <td>September</td>\n      <td>Tropical Storm</td>\n      <td>0</td>\n      <td>0</td>\n      <td>0</td>\n      <td>0</td>\n      <td>1.500000e+04</td>\n      <td>0.0</td>\n      <td>NaN</td>\n      <td>CSV</td>\n      <td>1000</td>\n      <td>1000</td>\n    </tr>\n    <tr>\n      <th>118389</th>\n      <td>380961</td>\n      <td>1602136</td>\n      <td>858098</td>\n      <td>CALIFORNIA</td>\n      <td>2019</td>\n      <td>September</td>\n      <td>Strong Wind</td>\n      <td>0</td>\n      <td>0</td>\n      <td>0</td>\n      <td>0</td>\n      <td>2.000000e+03</td>\n      <td>0.0</td>\n      <td>35.0</td>\n      <td>CSV</td>\n      <td>1000</td>\n      <td>1000</td>\n    </tr>\n    <tr>\n      <th>118390</th>\n      <td>380964</td>\n      <td>1602162</td>\n      <td>857521</td>\n      <td>VIRGINIA</td>\n      <td>2019</td>\n      <td>September</td>\n      <td>Tropical Storm</td>\n      <td>0</td>\n      <td>0</td>\n      <td>0</td>\n      <td>0</td>\n      <td>1.000000e+04</td>\n      <td>0.0</td>\n      <td>NaN</td>\n      <td>CSV</td>\n      <td>1000</td>\n      <td>1000</td>\n    </tr>\n    <tr>\n      <th>118391</th>\n      <td>380968</td>\n      <td>1602172</td>\n      <td>861557</td>\n      <td>ILLINOIS</td>\n      <td>2019</td>\n      <td>June</td>\n      <td>Flood</td>\n      <td>0</td>\n      <td>0</td>\n      <td>0</td>\n      <td>0</td>\n      <td>8.100000e+06</td>\n      <td>0.0</td>\n      <td>NaN</td>\n      <td>CSV</td>\n      <td>1000000</td>\n      <td>1000</td>\n    </tr>\n  </tbody>\n</table>\n<p>118392 rows × 17 columns</p>\n</div>"
     },
     "metadata": {},
     "execution_count": 40
    }
   ],
   "source": [
    "file_to_load = 'ninety_six_df.csv'\n",
    "data = pd.read_csv(file_to_load)\n",
    "clean_df = data \n",
    "clean_df"
   ]
  },
  {
   "cell_type": "code",
   "execution_count": 41,
   "metadata": {},
   "outputs": [
    {
     "output_type": "execute_result",
     "data": {
      "text/plain": "   Unnamed: 0  Unnamed: 0.1  EVENT_ID           STATE  YEAR MONTH_NAME  \\\n0       26163        188790  10317829         FLORIDA  1993      March   \n1       37804        215779  10338716  NORTH CAROLINA  1995       June   \n2       38225        216743  10337585  NORTH CAROLINA  1995       June   \n3       38227        216745  10337587  NORTH CAROLINA  1995       June   \n4       38228        216746  10337588  NORTH CAROLINA  1995       June   \n\n                   EVENT_TYPE  INJURIES_DIRECT  INJURIES_INDIRECT  \\\n0  TORNADOES, TSTM WIND, HAIL                0                  0   \n1    THUNDERSTORM WIND/ TREES                0                  0   \n2     THUNDERSTORM WIND/ TREE                0                  0   \n3    THUNDERSTORM WIND/ TREES                0                  0   \n4    THUNDERSTORM WIND/ TREES                0                  0   \n\n   DEATHS_DIRECT  DEATHS_INDIRECT  DAMAGE_PROPERTY  DAMAGE_CROPS  MAGNITUDE  \\\n0             25                0     1.600000e+09     2500000.0        0.0   \n1              0                0     2.000000e+03           0.0        0.0   \n2              0                0     1.000000e+03           0.0        0.0   \n3              0                0     1.000000e+03           0.0        0.0   \n4              0                0     2.000000e+03           0.0        0.0   \n\n  DATA_SOURCE  property_money_identifier  crops_money_identifier  \\\n0         CSV                 1000000000                 1000000   \n1         CSV                       1000                       1   \n2         CSV                       1000                       1   \n3         CSV                       1000                       1   \n4         CSV                       1000                       1   \n\n   CPI_Multiplier  \n0        1.769253  \n1        1.677539  \n2        1.677539  \n3        1.677539  \n4        1.677539  ",
      "text/html": "<div>\n<style scoped>\n    .dataframe tbody tr th:only-of-type {\n        vertical-align: middle;\n    }\n\n    .dataframe tbody tr th {\n        vertical-align: top;\n    }\n\n    .dataframe thead th {\n        text-align: right;\n    }\n</style>\n<table border=\"1\" class=\"dataframe\">\n  <thead>\n    <tr style=\"text-align: right;\">\n      <th></th>\n      <th>Unnamed: 0</th>\n      <th>Unnamed: 0.1</th>\n      <th>EVENT_ID</th>\n      <th>STATE</th>\n      <th>YEAR</th>\n      <th>MONTH_NAME</th>\n      <th>EVENT_TYPE</th>\n      <th>INJURIES_DIRECT</th>\n      <th>INJURIES_INDIRECT</th>\n      <th>DEATHS_DIRECT</th>\n      <th>DEATHS_INDIRECT</th>\n      <th>DAMAGE_PROPERTY</th>\n      <th>DAMAGE_CROPS</th>\n      <th>MAGNITUDE</th>\n      <th>DATA_SOURCE</th>\n      <th>property_money_identifier</th>\n      <th>crops_money_identifier</th>\n      <th>CPI_Multiplier</th>\n    </tr>\n  </thead>\n  <tbody>\n    <tr>\n      <th>0</th>\n      <td>26163</td>\n      <td>188790</td>\n      <td>10317829</td>\n      <td>FLORIDA</td>\n      <td>1993</td>\n      <td>March</td>\n      <td>TORNADOES, TSTM WIND, HAIL</td>\n      <td>0</td>\n      <td>0</td>\n      <td>25</td>\n      <td>0</td>\n      <td>1.600000e+09</td>\n      <td>2500000.0</td>\n      <td>0.0</td>\n      <td>CSV</td>\n      <td>1000000000</td>\n      <td>1000000</td>\n      <td>1.769253</td>\n    </tr>\n    <tr>\n      <th>1</th>\n      <td>37804</td>\n      <td>215779</td>\n      <td>10338716</td>\n      <td>NORTH CAROLINA</td>\n      <td>1995</td>\n      <td>June</td>\n      <td>THUNDERSTORM WIND/ TREES</td>\n      <td>0</td>\n      <td>0</td>\n      <td>0</td>\n      <td>0</td>\n      <td>2.000000e+03</td>\n      <td>0.0</td>\n      <td>0.0</td>\n      <td>CSV</td>\n      <td>1000</td>\n      <td>1</td>\n      <td>1.677539</td>\n    </tr>\n    <tr>\n      <th>2</th>\n      <td>38225</td>\n      <td>216743</td>\n      <td>10337585</td>\n      <td>NORTH CAROLINA</td>\n      <td>1995</td>\n      <td>June</td>\n      <td>THUNDERSTORM WIND/ TREE</td>\n      <td>0</td>\n      <td>0</td>\n      <td>0</td>\n      <td>0</td>\n      <td>1.000000e+03</td>\n      <td>0.0</td>\n      <td>0.0</td>\n      <td>CSV</td>\n      <td>1000</td>\n      <td>1</td>\n      <td>1.677539</td>\n    </tr>\n    <tr>\n      <th>3</th>\n      <td>38227</td>\n      <td>216745</td>\n      <td>10337587</td>\n      <td>NORTH CAROLINA</td>\n      <td>1995</td>\n      <td>June</td>\n      <td>THUNDERSTORM WIND/ TREES</td>\n      <td>0</td>\n      <td>0</td>\n      <td>0</td>\n      <td>0</td>\n      <td>1.000000e+03</td>\n      <td>0.0</td>\n      <td>0.0</td>\n      <td>CSV</td>\n      <td>1000</td>\n      <td>1</td>\n      <td>1.677539</td>\n    </tr>\n    <tr>\n      <th>4</th>\n      <td>38228</td>\n      <td>216746</td>\n      <td>10337588</td>\n      <td>NORTH CAROLINA</td>\n      <td>1995</td>\n      <td>June</td>\n      <td>THUNDERSTORM WIND/ TREES</td>\n      <td>0</td>\n      <td>0</td>\n      <td>0</td>\n      <td>0</td>\n      <td>2.000000e+03</td>\n      <td>0.0</td>\n      <td>0.0</td>\n      <td>CSV</td>\n      <td>1000</td>\n      <td>1</td>\n      <td>1.677539</td>\n    </tr>\n  </tbody>\n</table>\n</div>"
     },
     "metadata": {},
     "execution_count": 41
    }
   ],
   "source": [
    "merged_df = pd.merge(clean_df, clean_cpi, how='left', on='YEAR')\n",
    "merged_df.head()"
   ]
  },
  {
   "cell_type": "code",
   "execution_count": 42,
   "metadata": {},
   "outputs": [
    {
     "output_type": "execute_result",
     "data": {
      "text/plain": "   Unnamed: 0  Unnamed: 0.1  EVENT_ID           STATE  YEAR MONTH_NAME  \\\n0       26163        188790  10317829         FLORIDA  1993      March   \n1       37804        215779  10338716  NORTH CAROLINA  1995       June   \n2       38225        216743  10337585  NORTH CAROLINA  1995       June   \n3       38227        216745  10337587  NORTH CAROLINA  1995       June   \n4       38228        216746  10337588  NORTH CAROLINA  1995       June   \n\n                   EVENT_TYPE  INJURIES_DIRECT  INJURIES_INDIRECT  \\\n0  TORNADOES, TSTM WIND, HAIL                0                  0   \n1    THUNDERSTORM WIND/ TREES                0                  0   \n2     THUNDERSTORM WIND/ TREE                0                  0   \n3    THUNDERSTORM WIND/ TREES                0                  0   \n4    THUNDERSTORM WIND/ TREES                0                  0   \n\n   DEATHS_DIRECT  DEATHS_INDIRECT  DAMAGE_PROPERTY  DAMAGE_CROPS  MAGNITUDE  \\\n0             25                0     1.600000e+09     2500000.0        0.0   \n1              0                0     2.000000e+03           0.0        0.0   \n2              0                0     1.000000e+03           0.0        0.0   \n3              0                0     1.000000e+03           0.0        0.0   \n4              0                0     2.000000e+03           0.0        0.0   \n\n  DATA_SOURCE  property_money_identifier  crops_money_identifier  \\\n0         CSV                 1000000000                 1000000   \n1         CSV                       1000                       1   \n2         CSV                       1000                       1   \n3         CSV                       1000                       1   \n4         CSV                       1000                       1   \n\n   CPI_Multiplier   CPIAdjPrice       CROPADJ  \n0        1.769253  2.830804e+09  4.423131e+06  \n1        1.677539  3.355079e+03  0.000000e+00  \n2        1.677539  1.677539e+03  0.000000e+00  \n3        1.677539  1.677539e+03  0.000000e+00  \n4        1.677539  3.355079e+03  0.000000e+00  ",
      "text/html": "<div>\n<style scoped>\n    .dataframe tbody tr th:only-of-type {\n        vertical-align: middle;\n    }\n\n    .dataframe tbody tr th {\n        vertical-align: top;\n    }\n\n    .dataframe thead th {\n        text-align: right;\n    }\n</style>\n<table border=\"1\" class=\"dataframe\">\n  <thead>\n    <tr style=\"text-align: right;\">\n      <th></th>\n      <th>Unnamed: 0</th>\n      <th>Unnamed: 0.1</th>\n      <th>EVENT_ID</th>\n      <th>STATE</th>\n      <th>YEAR</th>\n      <th>MONTH_NAME</th>\n      <th>EVENT_TYPE</th>\n      <th>INJURIES_DIRECT</th>\n      <th>INJURIES_INDIRECT</th>\n      <th>DEATHS_DIRECT</th>\n      <th>DEATHS_INDIRECT</th>\n      <th>DAMAGE_PROPERTY</th>\n      <th>DAMAGE_CROPS</th>\n      <th>MAGNITUDE</th>\n      <th>DATA_SOURCE</th>\n      <th>property_money_identifier</th>\n      <th>crops_money_identifier</th>\n      <th>CPI_Multiplier</th>\n      <th>CPIAdjPrice</th>\n      <th>CROPADJ</th>\n    </tr>\n  </thead>\n  <tbody>\n    <tr>\n      <th>0</th>\n      <td>26163</td>\n      <td>188790</td>\n      <td>10317829</td>\n      <td>FLORIDA</td>\n      <td>1993</td>\n      <td>March</td>\n      <td>TORNADOES, TSTM WIND, HAIL</td>\n      <td>0</td>\n      <td>0</td>\n      <td>25</td>\n      <td>0</td>\n      <td>1.600000e+09</td>\n      <td>2500000.0</td>\n      <td>0.0</td>\n      <td>CSV</td>\n      <td>1000000000</td>\n      <td>1000000</td>\n      <td>1.769253</td>\n      <td>2.830804e+09</td>\n      <td>4.423131e+06</td>\n    </tr>\n    <tr>\n      <th>1</th>\n      <td>37804</td>\n      <td>215779</td>\n      <td>10338716</td>\n      <td>NORTH CAROLINA</td>\n      <td>1995</td>\n      <td>June</td>\n      <td>THUNDERSTORM WIND/ TREES</td>\n      <td>0</td>\n      <td>0</td>\n      <td>0</td>\n      <td>0</td>\n      <td>2.000000e+03</td>\n      <td>0.0</td>\n      <td>0.0</td>\n      <td>CSV</td>\n      <td>1000</td>\n      <td>1</td>\n      <td>1.677539</td>\n      <td>3.355079e+03</td>\n      <td>0.000000e+00</td>\n    </tr>\n    <tr>\n      <th>2</th>\n      <td>38225</td>\n      <td>216743</td>\n      <td>10337585</td>\n      <td>NORTH CAROLINA</td>\n      <td>1995</td>\n      <td>June</td>\n      <td>THUNDERSTORM WIND/ TREE</td>\n      <td>0</td>\n      <td>0</td>\n      <td>0</td>\n      <td>0</td>\n      <td>1.000000e+03</td>\n      <td>0.0</td>\n      <td>0.0</td>\n      <td>CSV</td>\n      <td>1000</td>\n      <td>1</td>\n      <td>1.677539</td>\n      <td>1.677539e+03</td>\n      <td>0.000000e+00</td>\n    </tr>\n    <tr>\n      <th>3</th>\n      <td>38227</td>\n      <td>216745</td>\n      <td>10337587</td>\n      <td>NORTH CAROLINA</td>\n      <td>1995</td>\n      <td>June</td>\n      <td>THUNDERSTORM WIND/ TREES</td>\n      <td>0</td>\n      <td>0</td>\n      <td>0</td>\n      <td>0</td>\n      <td>1.000000e+03</td>\n      <td>0.0</td>\n      <td>0.0</td>\n      <td>CSV</td>\n      <td>1000</td>\n      <td>1</td>\n      <td>1.677539</td>\n      <td>1.677539e+03</td>\n      <td>0.000000e+00</td>\n    </tr>\n    <tr>\n      <th>4</th>\n      <td>38228</td>\n      <td>216746</td>\n      <td>10337588</td>\n      <td>NORTH CAROLINA</td>\n      <td>1995</td>\n      <td>June</td>\n      <td>THUNDERSTORM WIND/ TREES</td>\n      <td>0</td>\n      <td>0</td>\n      <td>0</td>\n      <td>0</td>\n      <td>2.000000e+03</td>\n      <td>0.0</td>\n      <td>0.0</td>\n      <td>CSV</td>\n      <td>1000</td>\n      <td>1</td>\n      <td>1.677539</td>\n      <td>3.355079e+03</td>\n      <td>0.000000e+00</td>\n    </tr>\n  </tbody>\n</table>\n</div>"
     },
     "metadata": {},
     "execution_count": 42
    }
   ],
   "source": [
    "merged_df['CPIAdjPrice'] = merged_df['DAMAGE_PROPERTY'] * merged_df['CPI_Multiplier']\n",
    "merged_df['CROPADJ'] = merged_df['DAMAGE_CROPS'] * merged_df['CPI_Multiplier']\n",
    "merged_df.head()"
   ]
  },
  {
   "cell_type": "code",
   "execution_count": 43,
   "metadata": {},
   "outputs": [],
   "source": [
    "merged_df.to_csv('CPIninety_six_df.csv', index=False)"
   ]
  },
  {
   "cell_type": "code",
   "execution_count": null,
   "metadata": {},
   "outputs": [],
   "source": []
  }
 ]
}